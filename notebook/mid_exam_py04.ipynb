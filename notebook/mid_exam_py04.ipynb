{
  "nbformat": 4,
  "nbformat_minor": 0,
  "metadata": {
    "colab": {
      "name": "mid_exam_py04.ipynb",
      "provenance": [],
      "collapsed_sections": [],
      "include_colab_link": true
    },
    "kernelspec": {
      "name": "python3",
      "display_name": "Python 3"
    }
  },
  "cells": [
    {
      "cell_type": "markdown",
      "metadata": {
        "id": "view-in-github",
        "colab_type": "text"
      },
      "source": [
        "<a href=\"https://colab.research.google.com/github/dongwoo314/py04/blob/master/notebook/mid_exam_py04.ipynb\" target=\"_parent\"><img src=\"https://colab.research.google.com/assets/colab-badge.svg\" alt=\"Open In Colab\"/></a>"
      ]
    },
    {
      "cell_type": "markdown",
      "metadata": {
        "id": "ovY5jkD5dpxE",
        "colab_type": "text"
      },
      "source": [
        "## mid_exam_py04.ipynb"
      ]
    },
    {
      "cell_type": "markdown",
      "metadata": {
        "id": "X-limqO7Zr28",
        "colab_type": "text"
      },
      "source": [
        "## 1. 다음 식의 연산 결과는?\n",
        "- a = 5\n",
        "- b = 3\n",
        "- a**b"
      ]
    },
    {
      "cell_type": "code",
      "metadata": {
        "id": "BJgAq086bKYq",
        "colab_type": "code",
        "outputId": "71be3607-4a32-4b2f-954c-9829fa51a22d",
        "colab": {
          "base_uri": "https://localhost:8080/",
          "height": 36
        }
      },
      "source": [
        "# ** 는 지수연산자 이기 때문에 5의 3제곱을 계산\n",
        "a = 5\n",
        "b = 3\n",
        "print(a**b)"
      ],
      "execution_count": 0,
      "outputs": [
        {
          "output_type": "stream",
          "text": [
            "125\n"
          ],
          "name": "stdout"
        }
      ]
    },
    {
      "cell_type": "markdown",
      "metadata": {
        "id": "miheaFX5dKhT",
        "colab_type": "text"
      },
      "source": [
        "## 2. 다음 문자열 a에 대하여 슬라이싱을 한 결과는?\n",
        "* a = \"Life is too short, You need Python!\"\n",
        "* a[-16:-8]"
      ]
    },
    {
      "cell_type": "code",
      "metadata": {
        "id": "Oa7NkVBSeH-Y",
        "colab_type": "code",
        "outputId": "ea6e2e65-5361-4fd0-b142-f2bdf714d482",
        "colab": {
          "base_uri": "https://localhost:8080/",
          "height": 36
        }
      },
      "source": [
        "a = \"Life is too short, You need Python!\"\n",
        "a[-16:-8]\n",
        "# -16의 위치에 있는 문자는 \"Y\" -8의 위치에 있는 문자는 \"d\" 바로 뒤 \" \" 슬라이싱 결과는 \"Y\"부터 \" \" 앞인 \"d\"까지 문자열인 'You need' 가 출력"
      ],
      "execution_count": 0,
      "outputs": [
        {
          "output_type": "execute_result",
          "data": {
            "text/plain": [
              "'You need'"
            ]
          },
          "metadata": {
            "tags": []
          },
          "execution_count": 23
        }
      ]
    },
    {
      "cell_type": "markdown",
      "metadata": {
        "id": "s9mpV6_nekuj",
        "colab_type": "text"
      },
      "source": [
        "## 3. 다음 list a의 인덱싱 결과는?\n",
        "* a = [1, 2, (3, 4), ['a', 'b', ['My', 'Life', 'Good']]]\n",
        "* a[3][-1][0]"
      ]
    },
    {
      "cell_type": "code",
      "metadata": {
        "id": "oon2VpgAekT8",
        "colab_type": "code",
        "outputId": "3a0c7fb1-28db-497d-8f37-edc1a5ef275a",
        "colab": {
          "base_uri": "https://localhost:8080/",
          "height": 36
        }
      },
      "source": [
        "# 인덱싱을 하게 되면 순차적으로 대괄호를 파고 들어가는데, [3] -> ['a', 'b', ['My', 'Life', 'Good']], [-1] -> ['My', 'Life', 'Good'], [0] -> 'My'\n",
        "a = [1, 2, (3, 4), ['a', 'b', ['My', 'Life', 'Good']]]\n",
        "a[3][-1][0]"
      ],
      "execution_count": 0,
      "outputs": [
        {
          "output_type": "execute_result",
          "data": {
            "text/plain": [
              "'My'"
            ]
          },
          "metadata": {
            "tags": []
          },
          "execution_count": 9
        }
      ]
    },
    {
      "cell_type": "markdown",
      "metadata": {
        "id": "H_7UskzogAyc",
        "colab_type": "text"
      },
      "source": [
        "## 4. 다음 tuple t1의 슬라이싱 결과는?\n",
        "* t1 = (0, 1, \"s\", \"t\", \"u\")\n",
        "* t1[2:-2]"
      ]
    },
    {
      "cell_type": "code",
      "metadata": {
        "id": "GbusDgb5fL-H",
        "colab_type": "code",
        "outputId": "9599a588-ef08-4c08-a8d4-54f5a07da58a",
        "colab": {
          "base_uri": "https://localhost:8080/",
          "height": 36
        }
      },
      "source": [
        "t1 = (0, 1, \"s\", \"t\", \"u\")\n",
        "#     0  1   2    3    4 \n",
        "#    -5 -4  -3   -2   -1\n",
        "t1[2:-2]\n",
        "# 튜플 t1을 인덱싱 해보면 t1[2]는 's',t1[-2] 인덱싱하면 't'이다. t1[2:-2]의 슬라이싱 결과는 's'부터 't'전까지 이므로 's' 하나\n",
        "# 튜플은 1개의 요소만을 가질때는 요소 뒤에 콤마 붙인다 따라서 t1[2:-2]의 결과값은 ('s',)가 출력"
      ],
      "execution_count": 0,
      "outputs": [
        {
          "output_type": "execute_result",
          "data": {
            "text/plain": [
              "('s',)"
            ]
          },
          "metadata": {
            "tags": []
          },
          "execution_count": 24
        }
      ]
    },
    {
      "cell_type": "markdown",
      "metadata": {
        "id": "JB5IMdGXhQUU",
        "colab_type": "text"
      },
      "source": [
        "## 5. 다음 bool 값 출력 중 정확한 것은?\n",
        "* bool([0, 1, 2]), bool([0]), bool((0)), bool((0,))"
      ]
    },
    {
      "cell_type": "code",
      "metadata": {
        "id": "kolzwMcohOsF",
        "colab_type": "code",
        "colab": {}
      },
      "source": [
        "# bool([0, 1, 2]): [0, 1, 2] 리스트는 빈 리스트가 아니므로 bool 연산의 결과로 bool 자료형인 True\n",
        "# bool([0]): [0] 리스트는 빈 리스트가 아니므로 bool 연산의 결과로 bool 자료형인 True\n",
        "# bool((0)): (0)은 튜플이 아닌 숫자형 0을 나타냄. 따라서 bool 연산의 결과로 bool 자료형인 False.\n",
        "# bool((0,)): (0,) 튜플은 빈 튜플이 아니라서 bool 연산의 결과로 bool 자료형인 True.\n",
        "# bool([0, 1, 2]), bool([0]), bool((0)), bool((0,))의 결과값은 (True, True, False, True)가 출력"
      ],
      "execution_count": 0,
      "outputs": []
    },
    {
      "cell_type": "markdown",
      "metadata": {
        "id": "rFXURW7Oh84K",
        "colab_type": "text"
      },
      "source": [
        "## 6. 다음 조건문을 1줄 코드로 변경하시오.\n"
      ]
    },
    {
      "cell_type": "code",
      "metadata": {
        "id": "lJRfxrm7h8Qa",
        "colab_type": "code",
        "outputId": "29b45af5-bbba-41f0-f942-b3bcb8e8a693",
        "colab": {
          "base_uri": "https://localhost:8080/",
          "height": 36
        }
      },
      "source": [
        "score = 80\n",
        "if score >= 60:\n",
        "  message = \"success\"\n",
        "else:\n",
        "  message = \"failure\""
      ],
      "execution_count": 0,
      "outputs": [
        {
          "output_type": "stream",
          "text": [
            "success\n"
          ],
          "name": "stdout"
        }
      ]
    },
    {
      "cell_type": "code",
      "metadata": {
        "id": "QCeKJhzwqI9i",
        "colab_type": "code",
        "outputId": "5db7f23a-ad9c-41a6-ead2-94f4e644e397",
        "colab": {
          "base_uri": "https://localhost:8080/",
          "height": 36
        }
      },
      "source": [
        "message = \"success\" if score >= 60 else \"failure\"\n",
        "print(message)\n",
        "# # 변수 message에 값을 할당할 때 if-else 문을 단축 코드로 만들게 되면 조건문의 자리는 수행할 문장의 뒤가 된다"
      ],
      "execution_count": 0,
      "outputs": [
        {
          "output_type": "stream",
          "text": [
            "success\n"
          ],
          "name": "stdout"
        }
      ]
    },
    {
      "cell_type": "markdown",
      "metadata": {
        "id": "AckE8TndkG8q",
        "colab_type": "text"
      },
      "source": [
        "## 7. 다음 코드의 실행 결과는?"
      ]
    },
    {
      "cell_type": "code",
      "metadata": {
        "id": "QUV70pVOkKos",
        "colab_type": "code",
        "outputId": "a9600680-3dad-4bb3-d60c-5fc47b07c4c7",
        "colab": {
          "base_uri": "https://localhost:8080/",
          "height": 35
        }
      },
      "source": [
        "games = [\"A\", \"B\" ,\"C\"]  # games라는 변수에 [\"A,\",\"B\" ,\"C\"]라는 값을 설정한다.\n",
        " \n",
        "for cnt in range(len(games)): # len(games)는 games안의 요소들의 개수를 의미, len(games)= 3\n",
        "# for cnt in range(3)과 같아진다, range(3)은 0부터 3미만의 숫자를 포함하는 range 객체를 만듦.\n",
        "# for문의 in 연산자는 0,1,2값의 데이터가 있으므로 True를 리턴, 변수 cnt는 반복에 따라 해당 데이터를 순차적으로 할당\n",
        "   print(cnt, games[cnt], end=',') # for문이 반복할 때마다, cnt에 0,1,2의 값이 print함수로 출력\n",
        "   # cnt가 0일때, cnt값으로 0, games[0]은 리스트의 첫번째요소값 \"A\"를 출력 이때마다, end=','값도 출력되어 '0 A,'이 print함수를 통해 출력\n",
        "   # cnt가 1일때, game[1]='B'그리고 end=','로 '1 B,'값 출력.\n",
        "   # cnt가 2일때, game[2] ='C'이며 end','로 '2 C,'값을 출력하고 for문이 종료\n",
        "   # 0 A,1 B,2 C,  : 결과값은 다음과 같다."
      ],
      "execution_count": 1,
      "outputs": [
        {
          "output_type": "stream",
          "text": [
            "0 A,1 B,2 C,"
          ],
          "name": "stdout"
        }
      ]
    },
    {
      "cell_type": "markdown",
      "metadata": {
        "id": "9Ybuj78SmFys",
        "colab_type": "text"
      },
      "source": [
        "## 8. 다음의 결과가 출력되지 않는 것은?\n",
        "* 'I ate 10 apples. so I was sick for three days.'"
      ]
    },
    {
      "cell_type": "code",
      "metadata": {
        "id": "edEy4AhrmbuT",
        "colab_type": "code",
        "colab": {}
      },
      "source": [
        "number = 10\n",
        "day = \"three\"\n",
        "\n",
        "a = f\"I ate {number} apples. so I was sick for {'three'} days.\"\n",
        "b = f\"I ate {number} apples. so I was sick for {day} days.\"\n",
        "c = \"I ate {0} apples. so I was sick for {1} days.\".format(10, day)\n",
        "d = \"I ate {0} apples. so I was sick for {1} days.\".format(number = 10, day)\n",
        "\n",
        "# a, b, c 모두 출력 d는 오류\n",
        "# {name}를 사용할 경우 format 함수에는 반드시 같은 형태의 입력값이 있어야 하기 때문"
      ],
      "execution_count": 0,
      "outputs": []
    },
    {
      "cell_type": "markdown",
      "metadata": {
        "id": "ysskhI2Js6Hb",
        "colab_type": "text"
      },
      "source": [
        "## 9. 리스트 내포를 사용해 1부터 1000이하의 자연수 중 5의 배수의 합을 구하는 한 줄 코드를 작성하시오."
      ]
    },
    {
      "cell_type": "code",
      "metadata": {
        "id": "ECiSb9F4s7To",
        "colab_type": "code",
        "outputId": "83343702-1241-453e-889d-e2c001f2278f",
        "colab": {
          "base_uri": "https://localhost:8080/",
          "height": 36
        }
      },
      "source": [
        "sum([num for num in range(1,1001) if num % 5 == 0])\n",
        "\n",
        "# range(1,1001) : 1000까지 출력함(1001 출력x)\n",
        "# num % 5 == 0 : 5의 배수를 구하는 코드"
      ],
      "execution_count": 0,
      "outputs": [
        {
          "output_type": "execute_result",
          "data": {
            "text/plain": [
              "100500"
            ]
          },
          "metadata": {
            "tags": []
          },
          "execution_count": 32
        }
      ]
    },
    {
      "cell_type": "markdown",
      "metadata": {
        "id": "ADJQnPUXtuow",
        "colab_type": "text"
      },
      "source": [
        "## 10. 4개 과목의 평균 성적을 구하시오. [a], [b]에 적합한 코드는?"
      ]
    },
    {
      "cell_type": "code",
      "metadata": {
        "id": "j6QBH8B-t0nM",
        "colab_type": "code",
        "colab": {}
      },
      "source": [
        "subjects = ['python', 'english', 'math', 'science']\n",
        "scores = [88, 77, 66, 95]\n",
        "total = 0\n",
        "\n",
        "for subject, score in [a].______(subjects,scores):\n",
        "  total += score\n",
        "  print(subject,score)\n",
        "\n",
        "print(\"평균 점수 = {0}\".format([b].______))"
      ],
      "execution_count": 0,
      "outputs": []
    },
    {
      "cell_type": "code",
      "metadata": {
        "id": "oTeXMzizuAfo",
        "colab_type": "code",
        "outputId": "c73dfc92-45f6-421b-e71d-bcdd229b3d7b",
        "colab": {
          "base_uri": "https://localhost:8080/",
          "height": 111
        }
      },
      "source": [
        "subjects = ['python', 'english', 'math', 'science']\n",
        "scores = [88, 77, 66, 95]\n",
        "total = 0\n",
        "\n",
        "for subject, score in zip(subjects,scores): # zip : 동일한 개수로 이루어진 자료형을 묶어 주는 역할\n",
        "  total += score\n",
        "  print(subject, score)\n",
        "\n",
        "print(\"평균 점수 = {0}\".format(total/len(subjects))) \n",
        "\n",
        "# [a] : zip\n",
        "# [b] : total/len(subjects)"
      ],
      "execution_count": 0,
      "outputs": [
        {
          "output_type": "stream",
          "text": [
            "python 88\n",
            "english 77\n",
            "math 66\n",
            "science 95\n",
            "평균 점수 = 81.5\n"
          ],
          "name": "stdout"
        }
      ]
    }
  ]
}