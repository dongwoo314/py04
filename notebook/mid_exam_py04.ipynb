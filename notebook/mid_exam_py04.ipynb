{
  "nbformat": 4,
  "nbformat_minor": 0,
  "metadata": {
    "colab": {
      "name": "mid_exam_py04.ipynb",
      "provenance": [],
      "collapsed_sections": [],
      "authorship_tag": "ABX9TyNgd+uPoiXDlE0GLTPwJp8/",
      "include_colab_link": true
    },
    "kernelspec": {
      "name": "python3",
      "display_name": "Python 3"
    }
  },
  "cells": [
    {
      "cell_type": "markdown",
      "metadata": {
        "id": "view-in-github",
        "colab_type": "text"
      },
      "source": [
        "<a href=\"https://colab.research.google.com/github/dongwoo314/py04/blob/master/notebook/mid_exam_py04.ipynb\" target=\"_parent\"><img src=\"https://colab.research.google.com/assets/colab-badge.svg\" alt=\"Open In Colab\"/></a>"
      ]
    },
    {
      "cell_type": "markdown",
      "metadata": {
        "id": "cRAow5E9dEL3",
        "colab_type": "text"
      },
      "source": [
        "## 파이썬활용 중간고사 풀이\n"
      ]
    },
    {
      "cell_type": "markdown",
      "metadata": {
        "id": "NAJiVt5cdSS8",
        "colab_type": "text"
      },
      "source": [
        "###문제1."
      ]
    },
    {
      "cell_type": "code",
      "metadata": {
        "id": "ilPDgBQ0dX8E",
        "colab_type": "code",
        "colab": {}
      },
      "source": [
        ""
      ],
      "execution_count": 0,
      "outputs": []
    }
  ]
}