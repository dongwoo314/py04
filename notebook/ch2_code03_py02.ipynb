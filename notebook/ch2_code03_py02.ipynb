{
  "nbformat": 4,
  "nbformat_minor": 0,
  "metadata": {
    "colab": {
      "name": "ch2_code03_py02.ipynb",
      "provenance": [],
      "collapsed_sections": [],
      "include_colab_link": true
    },
    "kernelspec": {
      "display_name": "Python 3",
      "language": "python",
      "name": "python3"
    },
    "language_info": {
      "codemirror_mode": {
        "name": "ipython",
        "version": 3
      },
      "file_extension": ".py",
      "mimetype": "text/x-python",
      "name": "python",
      "nbconvert_exporter": "python",
      "pygments_lexer": "ipython3",
      "version": "3.7.5"
    }
  },
  "cells": [
    {
      "cell_type": "markdown",
      "metadata": {
        "id": "view-in-github",
        "colab_type": "text"
      },
      "source": [
        "<a href=\"https://colab.research.google.com/github/dongwoo314/py04/blob/master/notebook/ch2_code03_py02.ipynb\" target=\"_parent\"><img src=\"https://colab.research.google.com/assets/colab-badge.svg\" alt=\"Open In Colab\"/></a>"
      ]
    },
    {
      "cell_type": "markdown",
      "metadata": {
        "colab_type": "text",
        "id": "H4jNE-BMAK3f"
      },
      "source": [
        "# ch2_code03.ipynb\n",
        "## py02\n",
        "- Dictionary\n",
        "- Set\n",
        "- Bool\n",
        "- Variable"
      ]
    },
    {
      "cell_type": "code",
      "metadata": {
        "id": "ZJ2YvbQqOAdr",
        "colab_type": "code",
        "outputId": "398376f6-8070-4f52-e770-b3c691c88143",
        "colab": {
          "base_uri": "https://localhost:8080/",
          "height": 55
        }
      },
      "source": [
        "# ch2_07_dictionary.py\n",
        "\n",
        "print(\"딕셔너리: 딕셔너리(Dictionary)란?\")\n",
        "# 딕셔너리란 대응 관계를 나타내는 자료형.\n",
        "# 연관 배열(Associative array) 또는 해시(Hash)\n",
        "# 딕셔너리는 Key와 Value를 한 쌍으로 갖는 자료형\n",
        "#\n",
        "# 기본 딕셔너리의 모습\n",
        "# {Key1:Value1, Key2:Value2, Key3:Value3, ...}\n",
        "# Key와 Value의 쌍 여러 개가 { }로 둘러싸여 있다.\n",
        "# 각각의 요소는 Key : Value 형태로 이루어져 있고 쉼표(,)로 구분\n",
        "dic = {\"name\": \"pey\", \"phone\": \"0119993323\", \"birth\": \"1118\"}\n",
        "dic\n",
        "# Key는 각각 'name', 'phone', 'birth'\n",
        "# 각 Key에 해당하는 Value는 'pey', '0119993323', '1118'"
      ],
      "execution_count": 0,
      "outputs": [
        {
          "output_type": "stream",
          "text": [
            "딕셔너리: 딕셔너리(Dictionary)란?\n"
          ],
          "name": "stdout"
        },
        {
          "output_type": "execute_result",
          "data": {
            "text/plain": [
              "{'birth': '1118', 'name': 'pey', 'phone': '0119993323'}"
            ]
          },
          "metadata": {
            "tags": []
          },
          "execution_count": 2
        }
      ]
    },
    {
      "cell_type": "markdown",
      "metadata": {
        "id": "hTlzU3t5PWFx",
        "colab_type": "text"
      },
      "source": [
        "### 여러 가지 딕셔너리"
      ]
    },
    {
      "cell_type": "code",
      "metadata": {
        "id": "-MD_x6ZkOwoD",
        "colab_type": "code",
        "outputId": "cb4debb2-2c92-4094-d7ed-5b2e5292257b",
        "colab": {
          "base_uri": "https://localhost:8080/",
          "height": 36
        }
      },
      "source": [
        "# 여러 가지 딕셔너리\n",
        "a = {1: \"hi\"} \n",
        "a[1]"
      ],
      "execution_count": 0,
      "outputs": [
        {
          "output_type": "execute_result",
          "data": {
            "text/plain": [
              "'hi'"
            ]
          },
          "metadata": {
            "tags": []
          },
          "execution_count": 3
        }
      ]
    },
    {
      "cell_type": "code",
      "metadata": {
        "id": "d3JMX5SKPgWm",
        "colab_type": "code",
        "outputId": "d136a279-58a7-4e60-efdf-60caa09d5b68",
        "colab": {
          "base_uri": "https://localhost:8080/",
          "height": 36
        }
      },
      "source": [
        "a = {\"a\": [1, 2, 3]}  # value에는 복합 자료형도 사용된다.\n",
        "len(a)\n",
        "# a[a]  # TypeError\n",
        "# a[\"a\"]"
      ],
      "execution_count": 0,
      "outputs": [
        {
          "output_type": "execute_result",
          "data": {
            "text/plain": [
              "1"
            ]
          },
          "metadata": {
            "tags": []
          },
          "execution_count": 6
        }
      ]
    },
    {
      "cell_type": "code",
      "metadata": {
        "id": "1w43B-F5P04S",
        "colab_type": "code",
        "outputId": "ab96665f-2ba3-4733-909e-0008a2d33513",
        "colab": {
          "base_uri": "https://localhost:8080/",
          "height": 55
        }
      },
      "source": [
        "#\n",
        "# 딕셔너리 쌍 추가하기\n",
        "#\n",
        "a = {1: \"a\"}\n",
        "print(a)\n",
        "a[2] = \"b\" # 2 is Not index!!!, 2 is a key.\n",
        "a\n",
        "a[\"name\"] = \"pey\" # 여러가지 자료형 딕셔너리에 허용함.\n",
        "a\n",
        "a[3] = [1, 2, 3]\n",
        "a"
      ],
      "execution_count": 0,
      "outputs": [
        {
          "output_type": "stream",
          "text": [
            "{1: 'a'}\n"
          ],
          "name": "stdout"
        },
        {
          "output_type": "execute_result",
          "data": {
            "text/plain": [
              "{1: 'a', 2: 'b', 3: [1, 2, 3], 'name': 'pey'}"
            ]
          },
          "metadata": {
            "tags": []
          },
          "execution_count": 12
        }
      ]
    },
    {
      "cell_type": "code",
      "metadata": {
        "id": "JojjfwIeQfNA",
        "colab_type": "code",
        "outputId": "149ff992-35f3-4406-c49d-3883aa0010e5",
        "colab": {
          "base_uri": "https://localhost:8080/",
          "height": 36
        }
      },
      "source": [
        "#\n",
        "# 딕셔너리 쌍 삭제하기\n",
        "# \n",
        "del a[1] # 1 is a key, 1 is never an index.\n",
        "a"
      ],
      "execution_count": 0,
      "outputs": [
        {
          "output_type": "execute_result",
          "data": {
            "text/plain": [
              "{2: 'b', 'name': 'pey'}"
            ]
          },
          "metadata": {
            "tags": []
          },
          "execution_count": 11
        }
      ]
    },
    {
      "cell_type": "code",
      "metadata": {
        "id": "a2rYt_tJRUa6",
        "colab_type": "code",
        "outputId": "1e1403e8-fd6c-411e-99bf-a0373fd55d69",
        "colab": {
          "base_uri": "https://localhost:8080/",
          "height": 73
        }
      },
      "source": [
        "#\n",
        "print(\"딕셔너리: 사용 방법\")\n",
        "d = {\"김연아\": \"피겨스케이팅\", \"류현진\": \"야구\", \"손흥민\": \"축구\", \"귀도\": \"파이썬\"}\n",
        "print(d)\n",
        "d[\"손흥민\"] #d라는 딕셔너리에서 key'손흥민'에 들어있는 valuee값 축구출력"
      ],
      "execution_count": 0,
      "outputs": [
        {
          "output_type": "stream",
          "text": [
            "딕셔너리: 사용 방법\n",
            "{'김연아': '피겨스케이팅', '류현진': '야구', '손흥민': '축구', '귀도': '파이썬'}\n"
          ],
          "name": "stdout"
        },
        {
          "output_type": "execute_result",
          "data": {
            "text/plain": [
              "'축구'"
            ]
          },
          "metadata": {
            "tags": []
          },
          "execution_count": 14
        }
      ]
    },
    {
      "cell_type": "code",
      "metadata": {
        "id": "Yahv9xWKR4Jk",
        "colab_type": "code",
        "outputId": "2d52b200-8688-490c-e5cf-c1920151a43b",
        "colab": {
          "base_uri": "https://localhost:8080/",
          "height": 36
        }
      },
      "source": [
        "#\n",
        "# 딕셔너리에서 Key 사용해 Value 얻기\n",
        "#\n",
        "grade = {\"pey\": 10, \"julliet\": 99}\n",
        "grade[\"pey\"],grade[\"julliet\"]"
      ],
      "execution_count": 0,
      "outputs": [
        {
          "output_type": "execute_result",
          "data": {
            "text/plain": [
              "(10, 99)"
            ]
          },
          "metadata": {
            "tags": []
          },
          "execution_count": 18
        }
      ]
    },
    {
      "cell_type": "code",
      "metadata": {
        "id": "z1DBscC3SNnp",
        "colab_type": "code",
        "outputId": "6d9a84c0-a747-4ffc-bf65-bf967cc9081f",
        "colab": {
          "base_uri": "https://localhost:8080/",
          "height": 213
        }
      },
      "source": [
        "#\n",
        "a = {1: \"a\", 2: \"b\"}\n",
        "a[1]  # 1은 key\n",
        "#\n",
        "a = {\"a\": 1, \"b\": 2}\n",
        "a[\"b\"]\n",
        "a[b]  # TypeError, NameError: name 'b' is not defined"
      ],
      "execution_count": 0,
      "outputs": [
        {
          "output_type": "error",
          "ename": "NameError",
          "evalue": "ignored",
          "traceback": [
            "\u001b[0;31m---------------------------------------------------------------------------\u001b[0m",
            "\u001b[0;31mNameError\u001b[0m                                 Traceback (most recent call last)",
            "\u001b[0;32m<ipython-input-23-899bf7bff96b>\u001b[0m in \u001b[0;36m<module>\u001b[0;34m()\u001b[0m\n\u001b[1;32m      4\u001b[0m \u001b[0ma\u001b[0m \u001b[0;34m=\u001b[0m \u001b[0;34m{\u001b[0m\u001b[0;34m\"a\"\u001b[0m\u001b[0;34m:\u001b[0m \u001b[0;36m1\u001b[0m\u001b[0;34m,\u001b[0m \u001b[0;34m\"b\"\u001b[0m\u001b[0;34m:\u001b[0m \u001b[0;36m2\u001b[0m\u001b[0;34m}\u001b[0m\u001b[0;34m\u001b[0m\u001b[0;34m\u001b[0m\u001b[0m\n\u001b[1;32m      5\u001b[0m \u001b[0ma\u001b[0m\u001b[0;34m[\u001b[0m\u001b[0;34m\"b\"\u001b[0m\u001b[0;34m]\u001b[0m\u001b[0;34m\u001b[0m\u001b[0;34m\u001b[0m\u001b[0m\n\u001b[0;32m----> 6\u001b[0;31m \u001b[0ma\u001b[0m\u001b[0;34m[\u001b[0m\u001b[0mb\u001b[0m\u001b[0;34m]\u001b[0m  \u001b[0;31m# TypeError, NameError: name 'b' is not defined\u001b[0m\u001b[0;34m\u001b[0m\u001b[0;34m\u001b[0m\u001b[0m\n\u001b[0m",
            "\u001b[0;31mNameError\u001b[0m: name 'b' is not defined"
          ]
        }
      ]
    },
    {
      "cell_type": "code",
      "metadata": {
        "id": "iceqo13ISljv",
        "colab_type": "code",
        "outputId": "3737d51e-81b2-489e-abe4-1bad0e9cd741",
        "colab": {
          "base_uri": "https://localhost:8080/",
          "height": 36
        }
      },
      "source": [
        "#\n",
        "dic = {\"name\": \"pey\", \"phone\": \"0109993323\", \"birth\": \"1118\"}\n",
        "dic[\"birth\"]\n",
        "dic[\"phone\"]\n",
        "#\n",
        "# 딕셔너리 만들 때 주의할 사항\n",
        "# 딕셔너리에서 Key는 고유한 값이므로 중복되는 Key 값을 설정해 놓으면\n",
        "# 하나를 제외한 나머지 것들이 모두 무시된다\n",
        "#\n",
        "a = {1: \"a\", 1: \"b\"}\n",
        "a[1]"
      ],
      "execution_count": 0,
      "outputs": [
        {
          "output_type": "execute_result",
          "data": {
            "text/plain": [
              "'b'"
            ]
          },
          "metadata": {
            "tags": []
          },
          "execution_count": 26
        }
      ]
    },
    {
      "cell_type": "markdown",
      "metadata": {
        "id": "p6vELlK8V4ur",
        "colab_type": "text"
      },
      "source": [
        "### 딕셔너리: 관련 내장 함수들"
      ]
    },
    {
      "cell_type": "code",
      "metadata": {
        "id": "dQIy78TiTCHk",
        "colab_type": "code",
        "outputId": "b354fe88-dab8-40b7-a6b1-1f15a9f0d8a8",
        "colab": {
          "base_uri": "https://localhost:8080/",
          "height": 92
        }
      },
      "source": [
        "#\n",
        "print(\"딕셔너리: 관련 내장 함수들\")\n",
        "#\n",
        "# Key 리스트 만들기(keys)\n",
        "#\n",
        "a = {\"name\": \"pey\", \"phone\": \"0119993323\", \"birth\": \"1118\"}\n",
        "a.keys()\n",
        "list(a.keys())\n",
        "#################################################\n",
        "# 기본적인 반복(iterate) 구문(예: for문)을 실행\n",
        "#################################################\n",
        "for k in a.keys():\n",
        "    print(k)\n"
      ],
      "execution_count": 0,
      "outputs": [
        {
          "output_type": "stream",
          "text": [
            "딕셔너리: 관련 내장 함수들\n",
            "name\n",
            "phone\n",
            "birth\n"
          ],
          "name": "stdout"
        }
      ]
    },
    {
      "cell_type": "code",
      "metadata": {
        "id": "3FyvR0JVWEGa",
        "colab_type": "code",
        "outputId": "2fc0ceab-03a3-490c-be44-24fadb8aeae8",
        "colab": {
          "base_uri": "https://localhost:8080/",
          "height": 36
        }
      },
      "source": [
        "#\n",
        "# Value 리스트 만들기(values)\n",
        "#\n",
        "list(a.values())"
      ],
      "execution_count": 0,
      "outputs": [
        {
          "output_type": "execute_result",
          "data": {
            "text/plain": [
              "['pey', '0119993323', '1118']"
            ]
          },
          "metadata": {
            "tags": []
          },
          "execution_count": 31
        }
      ]
    },
    {
      "cell_type": "code",
      "metadata": {
        "id": "oOtvCvkqWr-4",
        "colab_type": "code",
        "outputId": "3dc51045-b380-46fb-fdbd-29b43c3f6a4b",
        "colab": {
          "base_uri": "https://localhost:8080/",
          "height": 36
        }
      },
      "source": [
        "#\n",
        "# Key, Value 쌍 얻기(items)\n",
        "#\n",
        "a.items()  # Key와 Value의 쌍을 튜플로 묶은 값을 dict_items 객체로 돌려준다."
      ],
      "execution_count": 0,
      "outputs": [
        {
          "output_type": "execute_result",
          "data": {
            "text/plain": [
              "dict_items([('name', 'pey'), ('phone', '0119993323'), ('birth', '1118')])"
            ]
          },
          "metadata": {
            "tags": []
          },
          "execution_count": 33
        }
      ]
    },
    {
      "cell_type": "code",
      "metadata": {
        "id": "A9p_k_jrW8ib",
        "colab_type": "code",
        "outputId": "2c17d61b-c44c-4314-9e90-82634ff82c0f",
        "colab": {
          "base_uri": "https://localhost:8080/",
          "height": 36
        }
      },
      "source": [
        "#\n",
        "#\n",
        "# Key: Value 쌍 모두 지우기(clear)\n",
        "#\n",
        "a.clear()\n",
        "a"
      ],
      "execution_count": 0,
      "outputs": [
        {
          "output_type": "execute_result",
          "data": {
            "text/plain": [
              "{}"
            ]
          },
          "metadata": {
            "tags": []
          },
          "execution_count": 34
        }
      ]
    },
    {
      "cell_type": "code",
      "metadata": {
        "id": "PRBGF_cNXD7u",
        "colab_type": "code",
        "outputId": "a2a83c70-f658-4339-ec28-f14a9e8abf2e",
        "colab": {
          "base_uri": "https://localhost:8080/",
          "height": 36
        }
      },
      "source": [
        "# @@어렵다.\n",
        "# Key로 Value얻기(get)\n",
        "#\n",
        "a = {\"name\": \"pey\", \"phone\": \"0119993323\", \"birth\": \"1118\"}\n",
        "a.get(\"name\")  # a['name']\n",
        "a.get(\"phone\")  # a['phone']"
      ],
      "execution_count": 0,
      "outputs": [
        {
          "output_type": "execute_result",
          "data": {
            "text/plain": [
              "'0119993323'"
            ]
          },
          "metadata": {
            "tags": []
          },
          "execution_count": 37
        }
      ]
    },
    {
      "cell_type": "code",
      "metadata": {
        "id": "QNZkVFHoXUCC",
        "colab_type": "code",
        "outputId": "ffc81d2b-9ca7-45fd-b666-9da573e02657",
        "colab": {
          "base_uri": "https://localhost:8080/",
          "height": 176
        }
      },
      "source": [
        "print(a[\"nokey\"])  # KeyError"
      ],
      "execution_count": 0,
      "outputs": [
        {
          "output_type": "error",
          "ename": "KeyError",
          "evalue": "ignored",
          "traceback": [
            "\u001b[0;31m---------------------------------------------------------------------------\u001b[0m",
            "\u001b[0;31mKeyError\u001b[0m                                  Traceback (most recent call last)",
            "\u001b[0;32m<ipython-input-38-cad8ab3085f5>\u001b[0m in \u001b[0;36m<module>\u001b[0;34m()\u001b[0m\n\u001b[0;32m----> 1\u001b[0;31m \u001b[0mprint\u001b[0m\u001b[0;34m(\u001b[0m\u001b[0ma\u001b[0m\u001b[0;34m[\u001b[0m\u001b[0;34m\"nokey\"\u001b[0m\u001b[0;34m]\u001b[0m\u001b[0;34m)\u001b[0m  \u001b[0;31m# KeyError\u001b[0m\u001b[0;34m\u001b[0m\u001b[0;34m\u001b[0m\u001b[0m\n\u001b[0m",
            "\u001b[0;31mKeyError\u001b[0m: 'nokey'"
          ]
        }
      ]
    },
    {
      "cell_type": "code",
      "metadata": {
        "id": "etBxDQBqXhbr",
        "colab_type": "code",
        "outputId": "d999f304-8ec9-43f3-be04-8f606ef8e6cb",
        "colab": {
          "base_uri": "https://localhost:8080/",
          "height": 36
        }
      },
      "source": [
        "#\n",
        "# get(x, '디폴트 값')\n",
        "#\n",
        "# 딕셔너리 안에 찾으려는 Key 값이 없을 경우\n",
        "# 미리 정해 둔 디폴트 값을 대신 가져오게 설정.\n",
        "#\n",
        "a.get(\"foo\", \"bar\")\n",
        "a.get(\"name\", \"bar\")"
      ],
      "execution_count": 0,
      "outputs": [
        {
          "output_type": "execute_result",
          "data": {
            "text/plain": [
              "'pey'"
            ]
          },
          "metadata": {
            "tags": []
          },
          "execution_count": 40
        }
      ]
    },
    {
      "cell_type": "code",
      "metadata": {
        "id": "u7KdI_TPX3vY",
        "colab_type": "code",
        "outputId": "3c27aef2-da98-4c6c-8dc5-b7b919fea0ba",
        "colab": {
          "base_uri": "https://localhost:8080/",
          "height": 36
        }
      },
      "source": [
        "#\n",
        "# 해당 Key가 딕셔너리 안에 있는지 조사하기(in)\n",
        "#\n",
        "a = {\"name\": \"pey\", \"phone\": \"0119993323\", \"birth\": \"1118\"}\n",
        "\"name\" in a\n",
        "\"foo\" in a\n"
      ],
      "execution_count": 0,
      "outputs": [
        {
          "output_type": "execute_result",
          "data": {
            "text/plain": [
              "False"
            ]
          },
          "metadata": {
            "tags": []
          },
          "execution_count": 41
        }
      ]
    },
    {
      "cell_type": "markdown",
      "metadata": {
        "id": "P928trf7YbKC",
        "colab_type": "text"
      },
      "source": [
        "## Set"
      ]
    },
    {
      "cell_type": "code",
      "metadata": {
        "id": "dPfK6bmdOAdy",
        "colab_type": "code",
        "outputId": "a776eee8-4fa3-4dc6-9efa-b300605ac9da",
        "colab": {
          "base_uri": "https://localhost:8080/",
          "height": 55
        }
      },
      "source": [
        "# ch2_08_set.py\n",
        "\n",
        "print(\"집합: 집합(Set)이란?\")\n",
        "# 집합에 관련된 것을 쉽게 처리하기 위해 만든 자료형\n",
        "# @ set은 중복된 값을 허용하지 않는다.\n",
        "#\n",
        "# set 키워드를 사용해서 집합자료형을 만든다.\n",
        "#\n",
        "s1 = set([1, 2, 3])\n",
        "s1 # {....}파이썬에서는 중괄호를 담는 데이터구조 key->dictornary, 여기는 중복허용안하는 set\n",
        "s1n = set([1, 2, 3, 2])\n",
        "s1n\n",
        "s2 = set(\"Hello\")\n",
        "s2"
      ],
      "execution_count": 0,
      "outputs": [
        {
          "output_type": "stream",
          "text": [
            "집합: 집합(Set)이란?\n"
          ],
          "name": "stdout"
        },
        {
          "output_type": "execute_result",
          "data": {
            "text/plain": [
              "{'H', 'e', 'l', 'o'}"
            ]
          },
          "metadata": {
            "tags": []
          },
          "execution_count": 45
        }
      ]
    },
    {
      "cell_type": "markdown",
      "metadata": {
        "id": "lLsNximtZS6s",
        "colab_type": "text"
      },
      "source": [
        "### 집합 자료형의 특징"
      ]
    },
    {
      "cell_type": "code",
      "metadata": {
        "id": "xhDg5XQ2Yjc5",
        "colab_type": "code",
        "outputId": "503b1fb5-1593-4add-8781-3cbe1351d1c5",
        "colab": {
          "base_uri": "https://localhost:8080/",
          "height": 269
        }
      },
      "source": [
        "#\n",
        "# 집합 자료형의 특징\n",
        "# 1. 중복을 허용하지 않는다.\n",
        "# 2. 순서가 없다(Unordered).\n",
        "# *** set 자료형은 순서가 없기(unordered) 때문에 인덱싱으로 값을 얻을 수 없다.\n",
        "#\n",
        "s1 = set([1,2,3])\n",
        "print(s1)\n",
        "s1[0] # TypeError: 'set' object does not support indexing\n",
        "l1=list(s1)\n",
        "print(l1)\n",
        "I1[0]"
      ],
      "execution_count": 0,
      "outputs": [
        {
          "output_type": "stream",
          "text": [
            "{1, 2, 3}\n"
          ],
          "name": "stdout"
        },
        {
          "output_type": "error",
          "ename": "TypeError",
          "evalue": "ignored",
          "traceback": [
            "\u001b[0;31m---------------------------------------------------------------------------\u001b[0m",
            "\u001b[0;31mTypeError\u001b[0m                                 Traceback (most recent call last)",
            "\u001b[0;32m<ipython-input-52-11c6d1b3b190>\u001b[0m in \u001b[0;36m<module>\u001b[0;34m()\u001b[0m\n\u001b[1;32m      1\u001b[0m \u001b[0ms1\u001b[0m \u001b[0;34m=\u001b[0m \u001b[0mset\u001b[0m\u001b[0;34m(\u001b[0m\u001b[0;34m[\u001b[0m\u001b[0;36m1\u001b[0m\u001b[0;34m,\u001b[0m\u001b[0;36m2\u001b[0m\u001b[0;34m,\u001b[0m\u001b[0;36m3\u001b[0m\u001b[0;34m]\u001b[0m\u001b[0;34m)\u001b[0m\u001b[0;34m\u001b[0m\u001b[0;34m\u001b[0m\u001b[0m\n\u001b[1;32m      2\u001b[0m \u001b[0mprint\u001b[0m\u001b[0;34m(\u001b[0m\u001b[0ms1\u001b[0m\u001b[0;34m)\u001b[0m\u001b[0;34m\u001b[0m\u001b[0;34m\u001b[0m\u001b[0m\n\u001b[0;32m----> 3\u001b[0;31m \u001b[0ms1\u001b[0m\u001b[0;34m[\u001b[0m\u001b[0;36m0\u001b[0m\u001b[0;34m]\u001b[0m \u001b[0;31m# TypeError: 'set' object does not support indexing\u001b[0m\u001b[0;34m\u001b[0m\u001b[0;34m\u001b[0m\u001b[0m\n\u001b[0m\u001b[1;32m      4\u001b[0m \u001b[0ml1\u001b[0m\u001b[0;34m=\u001b[0m\u001b[0mlist\u001b[0m\u001b[0;34m(\u001b[0m\u001b[0ms1\u001b[0m\u001b[0;34m)\u001b[0m\u001b[0;34m\u001b[0m\u001b[0;34m\u001b[0m\u001b[0m\n\u001b[1;32m      5\u001b[0m \u001b[0mprint\u001b[0m\u001b[0;34m(\u001b[0m\u001b[0ml1\u001b[0m\u001b[0;34m)\u001b[0m\u001b[0;34m\u001b[0m\u001b[0;34m\u001b[0m\u001b[0m\n",
            "\u001b[0;31mTypeError\u001b[0m: 'set' object does not support indexing"
          ]
        }
      ]
    },
    {
      "cell_type": "code",
      "metadata": {
        "id": "mTO7HwkvZcCV",
        "colab_type": "code",
        "outputId": "e39a883e-8512-483a-cf25-d7ee7711b7b8",
        "colab": {
          "base_uri": "https://localhost:8080/",
          "height": 36
        }
      },
      "source": [
        "#\n",
        "t1=tuple(s1)\n",
        "t1\n",
        "t1[0]"
      ],
      "execution_count": 0,
      "outputs": [
        {
          "output_type": "execute_result",
          "data": {
            "text/plain": [
              "1"
            ]
          },
          "metadata": {
            "tags": []
          },
          "execution_count": 51
        }
      ]
    },
    {
      "cell_type": "code",
      "metadata": {
        "id": "Zmn9hXw9aEnZ",
        "colab_type": "code",
        "colab": {}
      },
      "source": [
        "\n",
        "#\n",
        "# 교집합, 합집합, 차집합 구하기\n",
        "#\n",
        "s1 = set([1, 2, 3, 4, 5, 6])\n",
        "s2 = set([4, 5, 6, 7, 8, 9])\n",
        "# \n",
        "# 1. 교집합\n",
        "#\n",
        "s1 & s2\n",
        "s1.intersection(s2)\n",
        "# \n",
        "# 2. 합집합\n",
        "#\n",
        "s1 | s2\n",
        "s1.union(s2)\n",
        "# \n",
        "# 3. 차집합\n",
        "#\n",
        "s1 - s2\n",
        "s2 - s1\n",
        "s1.difference(s2)\n",
        "s2.difference(s1)"
      ],
      "execution_count": 0,
      "outputs": []
    },
    {
      "cell_type": "code",
      "metadata": {
        "id": "kkq3oNCtaXVB",
        "colab_type": "code",
        "colab": {}
      },
      "source": [
        "#\n",
        "print(\"집합 (set): 관련 내장 함수들\")\n",
        "#\n",
        "# 값 1개 추가하기(add)\n",
        "#\n",
        "s1 = set([1, 2, 3])\n",
        "s1.add(4)\n",
        "s1\n",
        "#\n",
        "# 값 여러 개 추가하기(update)\n",
        "#\n",
        "s1 = set([1, 2, 3])\n",
        "s1.update([4,5,6])\n",
        "s1\n",
        "s1.add(5)\n",
        "s1\n",
        "#\n",
        "# 특정 값 제거하기(remove)\n",
        "#\n",
        "s1 = set([1, 2, 3])\n",
        "s1.remove(2)\n",
        "s1\n",
        "#################################################\n",
        "# frozenset()  # immutable set\n",
        "#################################################\n",
        "small_primes = frozenset([2, 3, 5, 7])\n",
        "bigger_primes = frozenset([5, 7, 11])\n",
        "small_primes.add(11)  # we cannot add to a frozenset -> AttributeError\n",
        "\n",
        "small_primes.remove(2)  # neither we can remove -> AttributeError\n",
        "\n",
        "small_primes & bigger_primes  # intersect, union, etc. allowed\n",
        "# frozenset({5, 7})\n"
      ],
      "execution_count": 0,
      "outputs": []
    },
    {
      "cell_type": "code",
      "metadata": {
        "id": "znIJ-irFZabk",
        "colab_type": "code",
        "colab": {}
      },
      "source": [
        "\n",
        "l1=list(s1)\n",
        "l1\n",
        "l1[0]\n",
        "#\n",
        "t1=tuple(s1)\n",
        "t1\n",
        "t1[0]"
      ],
      "execution_count": 0,
      "outputs": []
    },
    {
      "cell_type": "code",
      "metadata": {
        "id": "FfZdHx36aqlz",
        "colab_type": "code",
        "outputId": "7b093e3b-e874-4349-c6be-33313bd9599d",
        "colab": {
          "base_uri": "https://localhost:8080/",
          "height": 36
        }
      },
      "source": [
        "#\n",
        "# 교집합, 합집합, 차집합 구하기\n",
        "#\n",
        "s1 = set([1, 2, 3, 4, 5, 6])\n",
        "s2 = set([4, 5, 6, 7, 8, 9])\n",
        "# \n",
        "# 1. 교집합\n",
        "#\n",
        "s1 & s2\n",
        "s1.intersection(s2)\n",
        "# \n",
        "# 2. 합집합\n",
        "#\n",
        "s1 | s2\n",
        "s1.union(s2)\n",
        "# \n",
        "# 3. 차집합\n",
        "#\n",
        "s1 - s2\n",
        "s2 - s1\n",
        "s1.difference(s2)\n",
        "s2.difference(s1)"
      ],
      "execution_count": 0,
      "outputs": [
        {
          "output_type": "execute_result",
          "data": {
            "text/plain": [
              "{7, 8, 9}"
            ]
          },
          "metadata": {
            "tags": []
          },
          "execution_count": 61
        }
      ]
    },
    {
      "cell_type": "markdown",
      "metadata": {
        "id": "0aICeK6Ha_zw",
        "colab_type": "text"
      },
      "source": [
        "### 집합(set): 관련 내장 함수들"
      ]
    },
    {
      "cell_type": "code",
      "metadata": {
        "id": "1BVuYGzOaoda",
        "colab_type": "code",
        "outputId": "f99dd1dd-f61b-4f4f-dde4-3c21d3248ede",
        "colab": {
          "base_uri": "https://localhost:8080/",
          "height": 55
        }
      },
      "source": [
        "#\n",
        "print(\"집합 (set): 관련 내장 함수들\")\n",
        "#\n",
        "# 값 1개 추가하기(add)\n",
        "#\n",
        "s1 = set([1, 2, 3])\n",
        "s1.add(4)\n",
        "s1"
      ],
      "execution_count": 0,
      "outputs": [
        {
          "output_type": "stream",
          "text": [
            "집합 (set): 관련 내장 함수들\n"
          ],
          "name": "stdout"
        },
        {
          "output_type": "execute_result",
          "data": {
            "text/plain": [
              "{1, 2, 3, 4}"
            ]
          },
          "metadata": {
            "tags": []
          },
          "execution_count": 62
        }
      ]
    },
    {
      "cell_type": "code",
      "metadata": {
        "id": "dMUe9-TYbFN0",
        "colab_type": "code",
        "outputId": "7ef6bc25-c403-4d4a-c1e5-84ebf866bfa8",
        "colab": {
          "base_uri": "https://localhost:8080/",
          "height": 36
        }
      },
      "source": [
        "#\n",
        "# 값 여러 개 추가하기(update)\n",
        "#\n",
        "s1 = set([1, 2, 3])\n",
        "s1.update([4,5,6])\n",
        "s1\n",
        "s1.add(5) # 5추가해도 중복됐기에 결과값은 하나로 출력.\n",
        "s1"
      ],
      "execution_count": 0,
      "outputs": [
        {
          "output_type": "execute_result",
          "data": {
            "text/plain": [
              "{1, 2, 3, 4, 5, 6}"
            ]
          },
          "metadata": {
            "tags": []
          },
          "execution_count": 63
        }
      ]
    },
    {
      "cell_type": "code",
      "metadata": {
        "id": "RCTegistbM-z",
        "colab_type": "code",
        "outputId": "713ab24f-93be-42e8-92dc-43caf7449239",
        "colab": {
          "base_uri": "https://localhost:8080/",
          "height": 36
        }
      },
      "source": [
        "#\n",
        "# 특정 값 제거하기(remove)\n",
        "#\n",
        "s1 = set([1, 2, 3])\n",
        "s1.remove(2)\n",
        "s1"
      ],
      "execution_count": 0,
      "outputs": [
        {
          "output_type": "execute_result",
          "data": {
            "text/plain": [
              "{1, 3}"
            ]
          },
          "metadata": {
            "tags": []
          },
          "execution_count": 64
        }
      ]
    },
    {
      "cell_type": "code",
      "metadata": {
        "id": "IPCLXFQtbZtw",
        "colab_type": "code",
        "outputId": "c31e874d-6c42-427c-c698-cefb058ca359",
        "colab": {
          "base_uri": "https://localhost:8080/",
          "height": 251
        }
      },
      "source": [
        "#################################################\n",
        "# frozenset()  # immutable set @frozenset() =불변형 set\n",
        "#################################################\n",
        "small_primes = frozenset([2, 3, 5, 7])\n",
        "bigger_primes = frozenset([5, 7, 11])\n",
        "# small_primes.add(11)  # we cannot add to a frozenset -> AttributeError\n",
        "\n",
        "# small_primes.remove(2)  # neither we can remove -> AttributeError\n",
        "\n",
        "# small_primes & bigger_primes  # intersect, union, etc. allowed\n",
        "# frozenset({5, 7})\n"
      ],
      "execution_count": 0,
      "outputs": [
        {
          "output_type": "error",
          "ename": "AttributeError",
          "evalue": "ignored",
          "traceback": [
            "\u001b[0;31m---------------------------------------------------------------------------\u001b[0m",
            "\u001b[0;31mAttributeError\u001b[0m                            Traceback (most recent call last)",
            "\u001b[0;32m<ipython-input-66-e896316812ec>\u001b[0m in \u001b[0;36m<module>\u001b[0;34m()\u001b[0m\n\u001b[1;32m      3\u001b[0m \u001b[0;31m# small_primes.add(11)  # we cannot add to a frozenset -> AttributeError\u001b[0m\u001b[0;34m\u001b[0m\u001b[0;34m\u001b[0m\u001b[0;34m\u001b[0m\u001b[0m\n\u001b[1;32m      4\u001b[0m \u001b[0;34m\u001b[0m\u001b[0m\n\u001b[0;32m----> 5\u001b[0;31m \u001b[0msmall_primes\u001b[0m\u001b[0;34m.\u001b[0m\u001b[0mremove\u001b[0m\u001b[0;34m(\u001b[0m\u001b[0;36m2\u001b[0m\u001b[0;34m)\u001b[0m  \u001b[0;31m# neither we can remove -> AttributeError\u001b[0m\u001b[0;34m\u001b[0m\u001b[0;34m\u001b[0m\u001b[0m\n\u001b[0m\u001b[1;32m      6\u001b[0m \u001b[0;34m\u001b[0m\u001b[0m\n\u001b[1;32m      7\u001b[0m \u001b[0;31m# small_primes & bigger_primes  # intersect, union, etc. allowed\u001b[0m\u001b[0;34m\u001b[0m\u001b[0;34m\u001b[0m\u001b[0;34m\u001b[0m\u001b[0m\n",
            "\u001b[0;31mAttributeError\u001b[0m: 'frozenset' object has no attribute 'remove'"
          ]
        }
      ]
    },
    {
      "cell_type": "markdown",
      "metadata": {
        "id": "1NfOLjPBcAnQ",
        "colab_type": "text"
      },
      "source": [
        "## bool (불)"
      ]
    },
    {
      "cell_type": "code",
      "metadata": {
        "id": "NVIvA-DVOAd2",
        "colab_type": "code",
        "outputId": "287873a5-06d6-4e42-8afb-a9499fb74d6f",
        "colab": {
          "base_uri": "https://localhost:8080/",
          "height": 55
        }
      },
      "source": [
        "# ch2_09_bool.py\n",
        "\n",
        "print(\"불: 불 자료형이란?\")\n",
        "# 불(bool) 자료형이란 참(True)과 거짓(False)을 나타내는 자료형이다.\n",
        "# 불 자료형은 다음 2가지 값만을 가질 수 있다.\n",
        "# True - 참\n",
        "# False - 거짓\n",
        "# True나 False는 파이썬의 예약어로 true, false와 같이 사용하지 말고\n",
        "# 첫 문자를 항상 대문자로 사용해야 한다.\n",
        "#\n",
        "a = True\n",
        "b = False\n",
        "type(a), type(b) , a, b"
      ],
      "execution_count": 0,
      "outputs": [
        {
          "output_type": "stream",
          "text": [
            "불: 불 자료형이란?\n"
          ],
          "name": "stdout"
        },
        {
          "output_type": "execute_result",
          "data": {
            "text/plain": [
              "(bool, bool, True, False)"
            ]
          },
          "metadata": {
            "tags": []
          },
          "execution_count": 69
        }
      ]
    },
    {
      "cell_type": "code",
      "metadata": {
        "id": "PeuG3oUtcTSC",
        "colab_type": "code",
        "outputId": "7f693a6c-ffa6-4c78-cd54-46f02dd80c56",
        "colab": {
          "base_uri": "https://localhost:8080/",
          "height": 36
        }
      },
      "source": [
        "#\n",
        "# 참과 거짓\n",
        "#\n",
        "1 == 1\n",
        "2 > 1\n",
        "2 < 1\n",
        "True + 1\n",
        "False + 1"
      ],
      "execution_count": 0,
      "outputs": [
        {
          "output_type": "execute_result",
          "data": {
            "text/plain": [
              "1"
            ]
          },
          "metadata": {
            "tags": []
          },
          "execution_count": 73
        }
      ]
    },
    {
      "cell_type": "markdown",
      "metadata": {
        "id": "_7sPaCIyc_zy",
        "colab_type": "text"
      },
      "source": [
        "### 자료형의 참과 거짓\n",
        "- string\n",
        "- list\n",
        "- tuple\n",
        "- dictionary\n",
        "- set\n",
        "- bool"
      ]
    },
    {
      "cell_type": "code",
      "metadata": {
        "id": "yx3_-UlDcnfH",
        "colab_type": "code",
        "outputId": "64e2fe0f-2b6a-4b46-fc50-a2bf9783f3a0",
        "colab": {
          "base_uri": "https://localhost:8080/",
          "height": 36
        }
      },
      "source": [
        "#\n",
        "# 자료형의 참과 거짓\n",
        "#\n",
        "bool(\"python\")\n",
        "bool(\"\")\n",
        "bool([1, 2, 3])\n",
        "bool([2, 3])\n",
        "bool([])\n",
        "bool(())\n",
        "bool({})\n",
        "bool(1)\n",
        "bool(0)\n",
        "bool(None)"
      ],
      "execution_count": 0,
      "outputs": [
        {
          "output_type": "execute_result",
          "data": {
            "text/plain": [
              "False"
            ]
          },
          "metadata": {
            "tags": []
          },
          "execution_count": 82
        }
      ]
    },
    {
      "cell_type": "markdown",
      "metadata": {
        "id": "ro1kiYxvd7cS",
        "colab_type": "text"
      },
      "source": [
        "## Quiz"
      ]
    },
    {
      "cell_type": "code",
      "metadata": {
        "id": "AqugOOvhdrzd",
        "colab_type": "code",
        "outputId": "84f45fb5-6c64-4afe-b1fe-2eea68d6fe70",
        "colab": {
          "base_uri": "https://localhost:8080/",
          "height": 36
        }
      },
      "source": [
        "bool(0), bool([0]) , bool((0)) , bool((0,)) # (0) == 0 , (0,) = set인데 내부있음"
      ],
      "execution_count": 0,
      "outputs": [
        {
          "output_type": "execute_result",
          "data": {
            "text/plain": [
              "(False, True, False, True)"
            ]
          },
          "metadata": {
            "tags": []
          },
          "execution_count": 83
        }
      ]
    },
    {
      "cell_type": "code",
      "metadata": {
        "id": "kUy09NAZdODp",
        "colab_type": "code",
        "outputId": "47343a47-ca37-44ef-c34b-7c279b8d9e07",
        "colab": {
          "base_uri": "https://localhost:8080/",
          "height": 92
        }
      },
      "source": [
        "#\n",
        "# 불 값을 이용한 코드\n",
        "#\n",
        "a = [1, 2, 3, 4]\n",
        "# \n",
        "while a: # a가 참인 동안\n",
        "    print(a.pop()) # 리스트의 마지막 요소를 하나씩 꺼낸다."
      ],
      "execution_count": 0,
      "outputs": [
        {
          "output_type": "stream",
          "text": [
            "4\n",
            "3\n",
            "2\n",
            "1\n"
          ],
          "name": "stdout"
        }
      ]
    },
    {
      "cell_type": "code",
      "metadata": {
        "id": "7gTOkkbEeUHB",
        "colab_type": "code",
        "outputId": "740c014f-16a7-4162-c981-1a9c5c71888b",
        "colab": {
          "base_uri": "https://localhost:8080/",
          "height": 36
        }
      },
      "source": [
        "#\n",
        "if []:\n",
        "    print(\"참\")\n",
        "else:\n",
        "    print(\"거짓\")"
      ],
      "execution_count": 0,
      "outputs": [
        {
          "output_type": "stream",
          "text": [
            "거짓\n"
          ],
          "name": "stdout"
        }
      ]
    },
    {
      "cell_type": "code",
      "metadata": {
        "id": "HeRgMNCdepGR",
        "colab_type": "code",
        "outputId": "3f7a4157-f6ee-4874-bcb5-796b446ef84c",
        "colab": {
          "base_uri": "https://localhost:8080/",
          "height": 36
        }
      },
      "source": [
        "############################\n",
        "#  Representation error\n",
        "## double precision representation of floating-point numbers\n",
        "############################\n",
        "1-0.9\n",
        "# 0.09999999999999998\n",
        "#  1-0.9==.1\n",
        "# False"
      ],
      "execution_count": 0,
      "outputs": [
        {
          "output_type": "execute_result",
          "data": {
            "text/plain": [
              "0.09999999999999998"
            ]
          },
          "metadata": {
            "tags": []
          },
          "execution_count": 87
        }
      ]
    },
    {
      "cell_type": "code",
      "metadata": {
        "id": "cUFk2RCNexc_",
        "colab_type": "code",
        "colab": {}
      },
      "source": [
        "#####\n",
        "import decimal\n",
        "x=decimal.Decimal(3.14)\n",
        "y=decimal.Decimal(2.74)\n",
        "x,y\n",
        "\n",
        "x*y\n",
        "# Decimal('8.603600000000001010036498883')\n",
        "decimal.getcontext().prec=4\n",
        "x*y\n",
        "# Decimal('8.604')"
      ],
      "execution_count": 0,
      "outputs": []
    },
    {
      "cell_type": "markdown",
      "metadata": {
        "id": "QTGMm6CRfF5a",
        "colab_type": "text"
      },
      "source": [
        "## 변수"
      ]
    },
    {
      "cell_type": "code",
      "metadata": {
        "id": "m1Z22AOXOAd6",
        "colab_type": "code",
        "outputId": "2998d74e-50f9-4e37-9ceb-9628535039a9",
        "colab": {
          "base_uri": "https://localhost:8080/",
          "height": 73
        }
      },
      "source": [
        "# ch2_10_variable.py\n",
        "\n",
        "print(\"변수: 변수란?\")\n",
        "#\n",
        "# 변수는 자료(값)을 저장하는 공간이다.\n",
        "#\n",
        "a = [1, 2, 3]\n",
        "print(a)\n",
        "id(a)  # a 변수가 가리키는 메모리의 주소"
      ],
      "execution_count": 0,
      "outputs": [
        {
          "output_type": "stream",
          "text": [
            "변수: 변수란?\n",
            "[1, 2, 3]\n"
          ],
          "name": "stdout"
        },
        {
          "output_type": "execute_result",
          "data": {
            "text/plain": [
              "139716267765320"
            ]
          },
          "metadata": {
            "tags": []
          },
          "execution_count": 88
        }
      ]
    },
    {
      "cell_type": "code",
      "metadata": {
        "id": "oahl7yTFfSwY",
        "colab_type": "code",
        "outputId": "09ebda6d-8961-4f1e-ea41-597fa8d712e6",
        "colab": {
          "base_uri": "https://localhost:8080/",
          "height": 36
        }
      },
      "source": [
        "# list\n",
        "a = [1, 2, 3]\n",
        "id(a)\n",
        "b = a\n",
        "id(a), id(b) \n",
        "a is b # True \n",
        "a[1] = 4\n",
        "a\n",
        "a, b\n",
        "a is b \n",
        "b = [1, 2, 3] # b에 새로운 값 더함:주소값 다름.\n",
        "id(a),id(b)\n",
        "a is b"
      ],
      "execution_count": 0,
      "outputs": [
        {
          "output_type": "execute_result",
          "data": {
            "text/plain": [
              "False"
            ]
          },
          "metadata": {
            "tags": []
          },
          "execution_count": 98
        }
      ]
    },
    {
      "cell_type": "code",
      "metadata": {
        "id": "ODvqeCJCfpIE",
        "colab_type": "code",
        "outputId": "7f5806a2-bb8c-4530-eee3-0cecf0c3359b",
        "colab": {
          "base_uri": "https://localhost:8080/",
          "height": 36
        }
      },
      "source": [
        "#\n",
        "# b 변수를 생성할 때 a 변수의 값을 가져오면서\n",
        "# a와는 다른 주소를 가리키도록 만들수는 없을까?\n",
        "# 다음 2가지 방법이 있다.\n",
        "#\n",
        "# 1. [:] 이용\n",
        "#\n",
        "a = [1, 2, 3]\n",
        "b = a[:]\n",
        "id(a), id(b)\n",
        "a[1] = 4\n",
        "a, b\n",
        "#\n",
        "# 2. copy 모듈 이용\n",
        "#\n",
        "a = [1, 2, 3]\n",
        "from copy import copy \n",
        "b = copy(a)\n",
        "\n",
        "b is a, a is b #NameError: name 'copy' is not defined"
      ],
      "execution_count": 0,
      "outputs": [
        {
          "output_type": "execute_result",
          "data": {
            "text/plain": [
              "(False, False)"
            ]
          },
          "metadata": {
            "tags": []
          },
          "execution_count": 104
        }
      ]
    },
    {
      "cell_type": "code",
      "metadata": {
        "id": "tjFGUVR6ghRN",
        "colab_type": "code",
        "outputId": "e6b2beb3-5334-4e89-f08b-0c581a2e6d68",
        "colab": {
          "base_uri": "https://localhost:8080/",
          "height": 73
        }
      },
      "source": [
        "#\n",
        "# 변수를 만드는 여러 가지 방법\n",
        "#\n",
        "a, b = (\"python\", \"life\")\n",
        "print(a)\n",
        "print(b)\n",
        "a, b"
      ],
      "execution_count": 0,
      "outputs": [
        {
          "output_type": "stream",
          "text": [
            "python\n",
            "life\n"
          ],
          "name": "stdout"
        },
        {
          "output_type": "execute_result",
          "data": {
            "text/plain": [
              "('python', 'life')"
            ]
          },
          "metadata": {
            "tags": []
          },
          "execution_count": 106
        }
      ]
    },
    {
      "cell_type": "code",
      "metadata": {
        "id": "X48A8ka7hTWK",
        "colab_type": "code",
        "outputId": "19896832-eb40-499f-c756-6a1b8db6ffd3",
        "colab": {
          "base_uri": "https://localhost:8080/",
          "height": 36
        }
      },
      "source": [
        "[a, b] = [\"python\", \"life\"]\n",
        "a,b\n",
        "\n",
        "a = 3\n",
        "b = 5\n",
        "a, b = b, a\n",
        "a,b"
      ],
      "execution_count": 0,
      "outputs": [
        {
          "output_type": "execute_result",
          "data": {
            "text/plain": [
              "(5, 3)"
            ]
          },
          "metadata": {
            "tags": []
          },
          "execution_count": 110
        }
      ]
    },
    {
      "cell_type": "code",
      "metadata": {
        "id": "5y_j1ABxhiJK",
        "colab_type": "code",
        "colab": {}
      },
      "source": [
        ""
      ],
      "execution_count": 0,
      "outputs": []
    }
  ]
}