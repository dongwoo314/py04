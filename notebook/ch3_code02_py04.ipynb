{
  "nbformat": 4,
  "nbformat_minor": 0,
  "metadata": {
    "colab": {
      "name": "ch3_code02_py04.ipynb",
      "provenance": [],
      "collapsed_sections": [],
      "include_colab_link": true
    },
    "kernelspec": {
      "display_name": "Python 3",
      "language": "python",
      "name": "python3"
    },
    "language_info": {
      "codemirror_mode": {
        "name": "ipython",
        "version": 3
      },
      "file_extension": ".py",
      "mimetype": "text/x-python",
      "name": "python",
      "nbconvert_exporter": "python",
      "pygments_lexer": "ipython3",
      "version": "3.7.5"
    }
  },
  "cells": [
    {
      "cell_type": "markdown",
      "metadata": {
        "id": "view-in-github",
        "colab_type": "text"
      },
      "source": [
        "<a href=\"https://colab.research.google.com/github/dongwoo314/py04/blob/master/notebook/ch3_code02_py04.ipynb\" target=\"_parent\"><img src=\"https://colab.research.google.com/assets/colab-badge.svg\" alt=\"Open In Colab\"/></a>"
      ]
    },
    {
      "cell_type": "markdown",
      "metadata": {
        "colab_type": "text",
        "id": "H4jNE-BMAK3f"
      },
      "source": [
        "# ch3_code02.ipynb\n",
        "## py04\n",
        "---\n",
        "- 반복문: for\n",
        "    - for ~ in ***:\n",
        "    - range()\n",
        "---\n",
        "\n",
        "- **리스트 내포(List comprehension)**\n",
        "\n",
        "***\n",
        "- **for 문과 iterator**\n",
        "    - for ~ range()\n",
        "    - for ~ enumerate()\n",
        "    - for ~ zip()\n",
        "    "
      ]
    },
    {
      "cell_type": "code",
      "metadata": {
        "id": "R-73g3-Cqz9C",
        "colab_type": "code",
        "outputId": "e69487a8-5403-4c61-e7da-dcc41b2e0f54",
        "colab": {
          "base_uri": "https://localhost:8080/",
          "height": 70
        }
      },
      "source": [
        "# ch3_03_for.py\n",
        "#\n",
        "print(\"for 문은 어떻게 사용?\")\n",
        "# 반복해서 문장을 수행해야 할 경우 for문을 사용한다. \n",
        "\n",
        "############################\n",
        "print(\"for문의 기본 구조\")\n",
        "'''\n",
        "for 변수 in 리스트(또는 튜플, 문자열):\n",
        "    수행할 문장1\n",
        "    수행할 문장2\n",
        "    ...\n",
        "'''"
      ],
      "execution_count": 0,
      "outputs": [
        {
          "output_type": "stream",
          "text": [
            "for 문은 어떻게 사용?\n",
            "for문의 기본 구조\n"
          ],
          "name": "stdout"
        },
        {
          "output_type": "execute_result",
          "data": {
            "text/plain": [
              "'\\nfor 변수 in 리스트(또는 튜플, 문자열):\\n    수행할 문장1\\n    수행할 문장2\\n    ...\\n'"
            ]
          },
          "metadata": {
            "tags": []
          },
          "execution_count": 1
        }
      ]
    },
    {
      "cell_type": "code",
      "metadata": {
        "id": "h9fnaQwmQGcw",
        "colab_type": "code",
        "outputId": "84c90228-ffb1-4f5f-968e-4b0f957cc824",
        "colab": {
          "base_uri": "https://localhost:8080/",
          "height": 87
        }
      },
      "source": [
        "#\n",
        "############################\n",
        "print(\"예제를 통해 for문 이해하기\")\n",
        "############################\n",
        "#\n",
        "# 1. 전형적인 for문\n",
        "#\n",
        "test_list = ['one', 'two', 'three'] \n",
        "for i in test_list:\n",
        "    print(i)\n",
        "    "
      ],
      "execution_count": 0,
      "outputs": [
        {
          "output_type": "stream",
          "text": [
            "예제를 통해 for문 이해하기\n",
            "one\n",
            "two\n",
            "three\n"
          ],
          "name": "stdout"
        }
      ]
    },
    {
      "cell_type": "code",
      "metadata": {
        "id": "8yhpZcXBQwEY",
        "colab_type": "code",
        "outputId": "6636c8f5-709b-427e-c4a2-c6b474366332",
        "colab": {
          "base_uri": "https://localhost:8080/",
          "height": 193
        }
      },
      "source": [
        "my_list = [10,20,30,40,50]\n",
        "for item in my_list:\n",
        "    print(item)\n",
        "    print(item*2)\n"
      ],
      "execution_count": 0,
      "outputs": [
        {
          "output_type": "stream",
          "text": [
            "10\n",
            "20\n",
            "20\n",
            "40\n",
            "30\n",
            "60\n",
            "40\n",
            "80\n",
            "50\n",
            "100\n"
          ],
          "name": "stdout"
        }
      ]
    },
    {
      "cell_type": "code",
      "metadata": {
        "id": "V0sylHmvQgLI",
        "colab_type": "code",
        "outputId": "ff7c65d2-6d23-4682-cb0d-e67a9bb64e5c",
        "colab": {
          "base_uri": "https://localhost:8080/",
          "height": 70
        }
      },
      "source": [
        "#\n",
        "# 2. 다양한 for문의 사용\n",
        "#\n",
        "a = [(1,2), (3,4), (5,6)]\n",
        "\n",
        "for (first, last) in a:\n",
        "    print(first + last)\n"
      ],
      "execution_count": 0,
      "outputs": [
        {
          "output_type": "stream",
          "text": [
            "3\n",
            "7\n",
            "11\n"
          ],
          "name": "stdout"
        }
      ]
    },
    {
      "cell_type": "code",
      "metadata": {
        "id": "o9tBH49wRy3I",
        "colab_type": "code",
        "outputId": "6c80bb00-b15f-46af-a9b1-5ba44ea1850d",
        "colab": {
          "base_uri": "https://localhost:8080/",
          "height": 105
        }
      },
      "source": [
        "#\n",
        "# 3. for문의 응용\n",
        "#\n",
        "# \"총 5명의 학생이 시험을 보았는데 시험 점수가 60점이 넘으면 \n",
        "# 합격이고 그렇지 않으면 불합격이다. \n",
        "# 합격인지 불합격인지 결과를 보여 주시오.\"\n",
        "#\n",
        "# marks1.py\n",
        "#\n",
        "marks = [90, 25, 67, 45, 80]\n",
        "\n",
        "number = 0 \n",
        "for mark in marks: \n",
        "    number = number +1 \n",
        "    if mark >= 60: \n",
        "        print(\"%d번 학생은 합격입니다.\" % number)\n",
        "    else: \n",
        "        print(\"%d번 학생은 불합격입니다.\" % number)\n",
        "    \n",
        "\n",
        "###################################\n",
        "# cmd에서 실행하시오.\n",
        "# python marks1.py\n",
        "# run marks1.py\n",
        "###################################"
      ],
      "execution_count": 0,
      "outputs": [
        {
          "output_type": "stream",
          "text": [
            "1번 학생은 합격입니다.\n",
            "2번 학생은 불합격입니다.\n",
            "3번 학생은 합격입니다.\n",
            "4번 학생은 불합격입니다.\n",
            "5번 학생은 합격입니다.\n"
          ],
          "name": "stdout"
        }
      ]
    },
    {
      "cell_type": "code",
      "metadata": {
        "id": "TQmF159WTblw",
        "colab_type": "code",
        "outputId": "55cb6509-7bbe-4af6-80a3-4ff0a63b5048",
        "colab": {
          "base_uri": "https://localhost:8080/",
          "height": 105
        }
      },
      "source": [
        "run marks1.py"
      ],
      "execution_count": 0,
      "outputs": [
        {
          "output_type": "stream",
          "text": [
            "1번 학생은 합격입니다.\n",
            "2번 학생은 불합격입니다.\n",
            "3번 학생은 합격입니다.\n",
            "4번 학생은 불합격입니다.\n",
            "5번 학생은 합격입니다.\n"
          ],
          "name": "stdout"
        }
      ]
    },
    {
      "cell_type": "code",
      "metadata": {
        "id": "BgEOpS6uSJ3u",
        "colab_type": "code",
        "outputId": "021bf598-7603-410e-a864-503e3542da3e",
        "colab": {
          "base_uri": "https://localhost:8080/",
          "height": 87
        }
      },
      "source": [
        "#\n",
        "###################################\n",
        "print(\"for문과 continue\")\n",
        "###################################\n",
        "# for문 안의 문장을 수행하는 도중에 continue문을 만나면 \n",
        "# for문의 처음으로 돌아가게 된다.\n",
        "#\n",
        "# 앞에서 for문 응용 예제를 그대로 사용해서 60점 이상인 사람에게는 \n",
        "# 축하 메시지를 보내고 나머지 사람에게는 아무 메시지도 전하지 않는 \n",
        "# 프로그램을 작성.\n",
        "#\n",
        "# marks2.py \n",
        "marks = [90, 25, 67, 45, 80]\n",
        "\n",
        "number = 0 \n",
        "for mark in marks: \n",
        "    number = number +1 \n",
        "    if mark < 60:\n",
        "        continue \n",
        "    print(\"%d번 학생 축하합니다. 합격입니다. \" % number)\n",
        "\n",
        "\n",
        "\n",
        "###################################\n",
        "# cmd에서 실행하시오.\n",
        "# python marks2.py\n",
        "###################################\n"
      ],
      "execution_count": 0,
      "outputs": [
        {
          "output_type": "stream",
          "text": [
            "for문과 continue\n",
            "1번 학생 축하합니다. 합격입니다. \n",
            "3번 학생 축하합니다. 합격입니다. \n",
            "5번 학생 축하합니다. 합격입니다. \n"
          ],
          "name": "stdout"
        }
      ]
    },
    {
      "cell_type": "code",
      "metadata": {
        "id": "4px8enC3UeTk",
        "colab_type": "code",
        "outputId": "7bf31df6-0717-4ab7-ebd5-dfe546fb5b20",
        "colab": {
          "base_uri": "https://localhost:8080/",
          "height": 70
        }
      },
      "source": [
        "run marks2.py"
      ],
      "execution_count": 0,
      "outputs": [
        {
          "output_type": "stream",
          "text": [
            "1번 학생 축하합니다. 합격입니다. \n",
            "3번 학생 축하합니다. 합격입니다. \n",
            "5번 학생 축하합니다. 합격입니다. \n"
          ],
          "name": "stdout"
        }
      ]
    },
    {
      "cell_type": "markdown",
      "metadata": {
        "id": "C8Yno1QGU_kN",
        "colab_type": "text"
      },
      "source": [
        "### range()\n",
        "- range(start,end)\n",
        "- range(start,end,step)\n",
        "- range(end)"
      ]
    },
    {
      "cell_type": "code",
      "metadata": {
        "id": "FQvK6n06VUOy",
        "colab_type": "code",
        "outputId": "34b0930c-6822-4c46-cfec-48d8167af8a2",
        "colab": {
          "base_uri": "https://localhost:8080/",
          "height": 52
        }
      },
      "source": [
        "a1 = range(5)   # range(0,5)\n",
        "print(a1)\n",
        "list(a1)"
      ],
      "execution_count": 0,
      "outputs": [
        {
          "output_type": "stream",
          "text": [
            "range(0, 5)\n"
          ],
          "name": "stdout"
        },
        {
          "output_type": "execute_result",
          "data": {
            "text/plain": [
              "[0, 1, 2, 3, 4]"
            ]
          },
          "metadata": {
            "tags": []
          },
          "execution_count": 12
        }
      ]
    },
    {
      "cell_type": "code",
      "metadata": {
        "id": "7JSWZzrKVzSj",
        "colab_type": "code",
        "outputId": "029b433e-c20f-4df6-a9eb-7f82803778a0",
        "colab": {
          "base_uri": "https://localhost:8080/",
          "height": 34
        }
      },
      "source": [
        "a2 = range(0,10,2)\n",
        "list(a2)"
      ],
      "execution_count": 0,
      "outputs": [
        {
          "output_type": "execute_result",
          "data": {
            "text/plain": [
              "[0, 2, 4, 6, 8]"
            ]
          },
          "metadata": {
            "tags": []
          },
          "execution_count": 13
        }
      ]
    },
    {
      "cell_type": "code",
      "metadata": {
        "id": "qfd5I-10TwHa",
        "colab_type": "code",
        "outputId": "d245254c-b1bd-4a6f-f3e4-b0382c9931dc",
        "colab": {
          "base_uri": "https://localhost:8080/",
          "height": 52
        }
      },
      "source": [
        "#\n",
        "###################################\n",
        "print(\"for문과 함께 자주 사용하는 range 함수\")\n",
        "# range(number)\n",
        "# range(시작 숫자, 끝 숫자)\n",
        "###################################\n",
        "#\n",
        "a = range(10)\n",
        "a\n",
        "list(a)\n",
        "\n",
        "a = range(1, 11)\n",
        "a\n",
        "list(a)"
      ],
      "execution_count": 0,
      "outputs": [
        {
          "output_type": "stream",
          "text": [
            "for문과 함께 자주 사용하는 range 함수\n"
          ],
          "name": "stdout"
        },
        {
          "output_type": "execute_result",
          "data": {
            "text/plain": [
              "[1, 2, 3, 4, 5, 6, 7, 8, 9, 10]"
            ]
          },
          "metadata": {
            "tags": []
          },
          "execution_count": 16
        }
      ]
    },
    {
      "cell_type": "code",
      "metadata": {
        "id": "dx3dn6ljWAma",
        "colab_type": "code",
        "outputId": "508643f3-6d4f-4218-f8bd-1e2ecd17b3a6",
        "colab": {
          "base_uri": "https://localhost:8080/",
          "height": 34
        }
      },
      "source": [
        "#\n",
        "# range 함수를 이용한 코드\n",
        "#\n",
        "add = 0 \n",
        "for i in range(1, 11): \n",
        "    add = add + i\n",
        "\n",
        "print(add)"
      ],
      "execution_count": 0,
      "outputs": [
        {
          "output_type": "stream",
          "text": [
            "55\n"
          ],
          "name": "stdout"
        }
      ]
    },
    {
      "cell_type": "code",
      "metadata": {
        "id": "mG3EKnnVXUag",
        "colab_type": "code",
        "outputId": "72ddc4f4-bffa-4f88-ebad-008dc41d0cac",
        "colab": {
          "base_uri": "https://localhost:8080/",
          "height": 34
        }
      },
      "source": [
        "a = range(10)\n",
        "b = [1,2,3]\n",
        "len(a),len(b)"
      ],
      "execution_count": 0,
      "outputs": [
        {
          "output_type": "execute_result",
          "data": {
            "text/plain": [
              "(10, 3)"
            ]
          },
          "metadata": {
            "tags": []
          },
          "execution_count": 19
        }
      ]
    },
    {
      "cell_type": "code",
      "metadata": {
        "id": "YeYUh7l_WtL-",
        "colab_type": "code",
        "outputId": "8d15f0d3-0795-4534-b277-4626f417d875",
        "colab": {
          "base_uri": "https://localhost:8080/",
          "height": 70
        }
      },
      "source": [
        "#marks3.py\n",
        "marks = [90, 25, 67, 45, 80]\n",
        "# number=0\n",
        "for number in range(len(marks)):\n",
        "    if marks[number] < 60: \n",
        "        continue\n",
        "    print(\"%d번 학생 축하합니다. 합격입니다.\" % (number+1))\n",
        "\n",
        "\n",
        "###################################\n",
        "# cmd에서 실행하시오.\n",
        "# python marks3.py\n",
        "###################################\n"
      ],
      "execution_count": 0,
      "outputs": [
        {
          "output_type": "stream",
          "text": [
            "1번 학생 축하합니다. 합격입니다.\n",
            "3번 학생 축하합니다. 합격입니다.\n",
            "5번 학생 축하합니다. 합격입니다.\n"
          ],
          "name": "stdout"
        }
      ]
    },
    {
      "cell_type": "code",
      "metadata": {
        "id": "Z7CTf4UqYWBq",
        "colab_type": "code",
        "outputId": "cfe98749-6418-4c39-8790-86202955838f",
        "colab": {
          "base_uri": "https://localhost:8080/",
          "height": 70
        }
      },
      "source": [
        "run marks3.py"
      ],
      "execution_count": 0,
      "outputs": [
        {
          "output_type": "stream",
          "text": [
            "1번 학생 축하합니다. 합격입니다.\n",
            "3번 학생 축하합니다. 합격입니다.\n",
            "5번 학생 축하합니다. 합격입니다.\n"
          ],
          "name": "stdout"
        }
      ]
    },
    {
      "cell_type": "code",
      "metadata": {
        "id": "Fi-vL1vOXRTA",
        "colab_type": "code",
        "outputId": "29e95eef-57d4-4391-9af8-dec93cfe9b25",
        "colab": {
          "base_uri": "https://localhost:8080/",
          "height": 175
        }
      },
      "source": [
        "#\n",
        "###################################\n",
        "print(\"for와 range를 이용한 구구단\")\n",
        "# for와 range 함수를 사용하면 \n",
        "# 소스 코드 단 4줄만으로 구구단을 출력\n",
        "###################################\n",
        "#\n",
        "# 중첩 for 문\n",
        "for i in range(2,10):         # ①번 for문 (i-loop)\n",
        "     for j in range(1, 10):   # ②번 for문 (j-loop)\n",
        "         print(i*j, end=\" \") \n",
        "     print('')   # 줄 바꿈\n",
        "     "
      ],
      "execution_count": 0,
      "outputs": [
        {
          "output_type": "stream",
          "text": [
            "for와 range를 이용한 구구단\n",
            "2 4 6 8 10 12 14 16 18 \n",
            "3 6 9 12 15 18 21 24 27 \n",
            "4 8 12 16 20 24 28 32 36 \n",
            "5 10 15 20 25 30 35 40 45 \n",
            "6 12 18 24 30 36 42 48 54 \n",
            "7 14 21 28 35 42 49 56 63 \n",
            "8 16 24 32 40 48 56 64 72 \n",
            "9 18 27 36 45 54 63 72 81 \n"
          ],
          "name": "stdout"
        }
      ]
    },
    {
      "cell_type": "code",
      "metadata": {
        "id": "NA62e7r9Yvb6",
        "colab_type": "code",
        "outputId": "deea04f9-2c16-4de2-f22b-91a8cdc6043f",
        "colab": {
          "base_uri": "https://localhost:8080/",
          "height": 158
        }
      },
      "source": [
        "# 아래와 같이 출력하도록 코드를 변경해보시오.\n",
        "#############################################################\n",
        "# 2 X 1 = 2 2 X 2 = 4 2 X 3 = 6 2 X 4 = 8 2 X 5 = 10 2 X 6 = 12 2 X 7 = 14 2 X 8 = 16 2 X 9 = 18\n",
        "# 3 X 1 = 3 3 X 2 = 6 3 X 3 = 9 3 X 4 = 12 3 X 5 = 15 3 X 6 = 18 3 X 7 = 21 3 X 8 = 24 3 X 9 = 27\n",
        "# 4 X 1 = 4 4 X 2 = 8 4 X 3 = 12 4 X 4 = 16 4 X 5 = 20 4 X 6 = 24 4 X 7 = 28 4 X 8 = 32 4 X 9 = 36\n",
        "# 5 X 1 = 5 5 X 2 = 10 5 X 3 = 15 5 X 4 = 20 5 X 5 = 25 5 X 6 = 30 5 X 7 = 35 5 X 8 = 40 5 X 9 = 45\n",
        "# 6 X 1 = 6 6 X 2 = 12 6 X 3 = 18 6 X 4 = 24 6 X 5 = 30 6 X 6 = 36 6 X 7 = 42 6 X 8 = 48 6 X 9 = 54\n",
        "# 7 X 1 = 7 7 X 2 = 14 7 X 3 = 21 7 X 4 = 28 7 X 5 = 35 7 X 6 = 42 7 X 7 = 49 7 X 8 = 56 7 X 9 = 63\n",
        "# 8 X 1 = 8 8 X 2 = 16 8 X 3 = 24 8 X 4 = 32 8 X 5 = 40 8 X 6 = 48 8 X 7 = 56 8 X 8 = 64 8 X 9 = 72\n",
        "# 9 X 1 = 9 9 X 2 = 18 9 X 3 = 27 9 X 4 = 36 9 X 5 = 45 9 X 6 = 54 9 X 7 = 63 9 X 8 = 72 9 X 9 = 81\n",
        "#############################################################\n",
        "# \n",
        "for i in range(2,10):        # ①번 for문\n",
        "     for j in range(1, 10):   # ②번 for문\n",
        "         print(i, \"X\", j, \"=\", i*j, end=\"  \") \n",
        "     print('') \n"
      ],
      "execution_count": 0,
      "outputs": [
        {
          "output_type": "stream",
          "text": [
            "2 X 1 = 2  2 X 2 = 4  2 X 3 = 6  2 X 4 = 8  2 X 5 = 10  2 X 6 = 12  2 X 7 = 14  2 X 8 = 16  2 X 9 = 18  \n",
            "3 X 1 = 3  3 X 2 = 6  3 X 3 = 9  3 X 4 = 12  3 X 5 = 15  3 X 6 = 18  3 X 7 = 21  3 X 8 = 24  3 X 9 = 27  \n",
            "4 X 1 = 4  4 X 2 = 8  4 X 3 = 12  4 X 4 = 16  4 X 5 = 20  4 X 6 = 24  4 X 7 = 28  4 X 8 = 32  4 X 9 = 36  \n",
            "5 X 1 = 5  5 X 2 = 10  5 X 3 = 15  5 X 4 = 20  5 X 5 = 25  5 X 6 = 30  5 X 7 = 35  5 X 8 = 40  5 X 9 = 45  \n",
            "6 X 1 = 6  6 X 2 = 12  6 X 3 = 18  6 X 4 = 24  6 X 5 = 30  6 X 6 = 36  6 X 7 = 42  6 X 8 = 48  6 X 9 = 54  \n",
            "7 X 1 = 7  7 X 2 = 14  7 X 3 = 21  7 X 4 = 28  7 X 5 = 35  7 X 6 = 42  7 X 7 = 49  7 X 8 = 56  7 X 9 = 63  \n",
            "8 X 1 = 8  8 X 2 = 16  8 X 3 = 24  8 X 4 = 32  8 X 5 = 40  8 X 6 = 48  8 X 7 = 56  8 X 8 = 64  8 X 9 = 72  \n",
            "9 X 1 = 9  9 X 2 = 18  9 X 3 = 27  9 X 4 = 36  9 X 5 = 45  9 X 6 = 54  9 X 7 = 63  9 X 8 = 72  9 X 9 = 81  \n"
          ],
          "name": "stdout"
        }
      ]
    },
    {
      "cell_type": "markdown",
      "metadata": {
        "id": "5Sv-UiLjZuox",
        "colab_type": "text"
      },
      "source": [
        "### 리스트 내포"
      ]
    },
    {
      "cell_type": "code",
      "metadata": {
        "id": "LaFJQFTvZRO2",
        "colab_type": "code",
        "outputId": "0e7b77d3-869e-4b51-fb94-aa5122df914e",
        "colab": {
          "base_uri": "https://localhost:8080/",
          "height": 52
        }
      },
      "source": [
        "#\n",
        "#######################################\n",
        "print(\"리스트 내포(List comprehension)\")\n",
        "#######################################\n",
        "#\n",
        "\n",
        "a = [1,2,3,4]\n",
        "result = []   # 리스트 초기화\n",
        "for num in a:\n",
        "    result.append(num*3)\n",
        "\n",
        "\n",
        "print(result)"
      ],
      "execution_count": 0,
      "outputs": [
        {
          "output_type": "stream",
          "text": [
            "리스트 내포(List comprehension)\n",
            "[3, 6, 9, 12]\n"
          ],
          "name": "stdout"
        }
      ]
    },
    {
      "cell_type": "code",
      "metadata": {
        "id": "SPZpaTdCcYFj",
        "colab_type": "code",
        "outputId": "255ee556-2e0c-4f23-a2a8-251948f4b3e2",
        "colab": {
          "base_uri": "https://localhost:8080/",
          "height": 34
        }
      },
      "source": [
        "result"
      ],
      "execution_count": 0,
      "outputs": [
        {
          "output_type": "execute_result",
          "data": {
            "text/plain": [
              "[3, 6, 9, 12]"
            ]
          },
          "metadata": {
            "tags": []
          },
          "execution_count": 25
        }
      ]
    },
    {
      "cell_type": "code",
      "metadata": {
        "id": "hI1SM8XjcFp0",
        "colab_type": "code",
        "outputId": "6fe968ae-61f6-4a4a-d78a-df6a8c78f35e",
        "colab": {
          "base_uri": "https://localhost:8080/",
          "height": 34
        }
      },
      "source": [
        "# 리스트 냬포\n",
        "a = [1,2,3,4]\n",
        "result = [num*3 for num in a]\n",
        "print(result)"
      ],
      "execution_count": 0,
      "outputs": [
        {
          "output_type": "stream",
          "text": [
            "[3, 6, 9, 12]\n"
          ],
          "name": "stdout"
        }
      ]
    },
    {
      "cell_type": "code",
      "metadata": {
        "id": "WlhiY6E5cq5c",
        "colab_type": "code",
        "outputId": "1ff6c269-301c-42cb-fd36-b8648d5d230a",
        "colab": {
          "base_uri": "https://localhost:8080/",
          "height": 34
        }
      },
      "source": [
        "#\n",
        "#############################################\n",
        "print(\"리스트 내포의 일반 문법\")\n",
        "#\n",
        "# [표현식 for 항목 in 반복가능객체 if 조건문]\n",
        "# -----------------------------------------\n",
        "#\n",
        "# 일반화\n",
        "# [표현식 for 항목1 in 반복가능객체1 if 조건문1\n",
        "#         for 항목2 in 반복가능객체2 if 조건문2\n",
        "#         ...\n",
        "#         for 항목n in 반복가능객체n if 조건문n]\n",
        "##############################################\n",
        "#\n",
        "# 예1. 구구단의 모든 결과를 리스트에 담는 코드\n",
        "#\n",
        "result = [x*y for x in range(2,10) for y in range(1,10)]"
      ],
      "execution_count": 0,
      "outputs": [
        {
          "output_type": "stream",
          "text": [
            "리스트 내포의 일반 문법\n"
          ],
          "name": "stdout"
        }
      ]
    },
    {
      "cell_type": "code",
      "metadata": {
        "id": "XFs1lQWsdnm5",
        "colab_type": "code",
        "outputId": "eb111698-904b-465c-e1c8-bd80aa5bd7a5",
        "colab": {
          "base_uri": "https://localhost:8080/",
          "height": 54
        }
      },
      "source": [
        "print(result)"
      ],
      "execution_count": 0,
      "outputs": [
        {
          "output_type": "stream",
          "text": [
            "[2, 4, 6, 8, 10, 12, 14, 16, 18, 3, 6, 9, 12, 15, 18, 21, 24, 27, 4, 8, 12, 16, 20, 24, 28, 32, 36, 5, 10, 15, 20, 25, 30, 35, 40, 45, 6, 12, 18, 24, 30, 36, 42, 48, 54, 7, 14, 21, 28, 35, 42, 49, 56, 63, 8, 16, 24, 32, 40, 48, 56, 64, 72, 9, 18, 27, 36, 45, 54, 63, 72, 81]\n"
          ],
          "name": "stdout"
        }
      ]
    },
    {
      "cell_type": "code",
      "metadata": {
        "id": "2OOJGq1dd4ly",
        "colab_type": "code",
        "outputId": "5498599a-dfcb-4288-c24c-5426cd6fcfbe",
        "colab": {
          "base_uri": "https://localhost:8080/",
          "height": 34
        }
      },
      "source": [
        "len(result)"
      ],
      "execution_count": 0,
      "outputs": [
        {
          "output_type": "execute_result",
          "data": {
            "text/plain": [
              "72"
            ]
          },
          "metadata": {
            "tags": []
          },
          "execution_count": 29
        }
      ]
    },
    {
      "cell_type": "code",
      "metadata": {
        "id": "6leYLP8BdaXQ",
        "colab_type": "code",
        "outputId": "15e0f887-db72-4e5b-de04-e327a2d1a376",
        "colab": {
          "base_uri": "https://localhost:8080/",
          "height": 34
        }
      },
      "source": [
        "#\n",
        "# 예2. 9 이하의 정수 중 짝수는 2배로, 홀수는 그대로 리스트에 담는 코드\n",
        "#\n",
        "x = [1, 2, 3, 4, 5, 6, 7, 8, 9]  # -> [1, 4, 3, 8, 5, 12, 7, 16, 9]\n",
        "result = []\n",
        "for idx in range(len(x)):\n",
        "    if x[idx] % 2 == 0:\n",
        "        result.append(x[idx] * 2)\n",
        "    else:\n",
        "        result.append(x[idx])\n",
        "result\n",
        "#\n",
        "# 짝수만 추출하여 2배로 만든 리스트 구성\n",
        "[element * 2 for element in x if element % 2 == 0]\n",
        "# 그러면 짝수는 2배로, 홀수는 그대로 리스트에 담는 코드는?\n",
        "[(element * 2 if element % 2 == 0 else element) for element in x]"
      ],
      "execution_count": 0,
      "outputs": [
        {
          "output_type": "execute_result",
          "data": {
            "text/plain": [
              "[1, 4, 3, 8, 5, 12, 7, 16, 9]"
            ]
          },
          "metadata": {
            "tags": []
          },
          "execution_count": 32
        }
      ]
    },
    {
      "cell_type": "code",
      "metadata": {
        "id": "I25lcmgPfMyl",
        "colab_type": "code",
        "outputId": "e74117e2-a0c6-4f91-9bc1-2158b28bc970",
        "colab": {
          "base_uri": "https://localhost:8080/",
          "height": 34
        }
      },
      "source": [
        "x=[1,2,3,4]\n",
        "[(element * 2 if element % 2 == 0 else element) for element in x]"
      ],
      "execution_count": 0,
      "outputs": [
        {
          "output_type": "execute_result",
          "data": {
            "text/plain": [
              "[1, 4, 3, 8]"
            ]
          },
          "metadata": {
            "tags": []
          },
          "execution_count": 33
        }
      ]
    },
    {
      "cell_type": "markdown",
      "metadata": {
        "id": "WSKeuywTfrjO",
        "colab_type": "text"
      },
      "source": [
        "## for 문과 iterator\n",
        "- range()\n",
        "- enumerate()\n",
        "- zip()"
      ]
    },
    {
      "cell_type": "code",
      "metadata": {
        "id": "YkW8fS6Pqz9E",
        "colab_type": "code",
        "outputId": "b24daa4f-2744-4eb1-d8bf-daa147323c7d",
        "colab": {
          "base_uri": "https://localhost:8080/",
          "height": 281
        }
      },
      "source": [
        "# ch3_04_for_iterates.py\n",
        "#\n",
        "############################\n",
        "print(\"for 문과 iterator\")\n",
        "############################\n",
        "subjects = ['python', 'english', 'math', 'science']\n",
        "scores = [88, 77, 66, 95]\n",
        "#\n",
        "print(\"과목명 출력\")\n",
        "for subject in subjects:\n",
        "    print(subject)\n",
        "\n",
        "\n",
        "#\n",
        "print(\"과목 점수 출력\")\n",
        "for score in scores:\n",
        "    print(score)\n",
        "for index in range(len(subjects)):\n",
        "    print(subjects[index],scores[index])"
      ],
      "execution_count": 0,
      "outputs": [
        {
          "output_type": "stream",
          "text": [
            "for 문과 iterator\n",
            "과목명 출력\n",
            "python\n",
            "english\n",
            "math\n",
            "science\n",
            "과목 점수 출력\n",
            "88\n",
            "77\n",
            "66\n",
            "95\n",
            "python 88\n",
            "english 77\n",
            "math 66\n",
            "science 95\n"
          ],
          "name": "stdout"
        }
      ]
    },
    {
      "cell_type": "markdown",
      "metadata": {
        "id": "ozV9np3XhWbs",
        "colab_type": "text"
      },
      "source": [
        "### enumerate()를 이용한 출력"
      ]
    },
    {
      "cell_type": "code",
      "metadata": {
        "id": "o3M8w-bufpEW",
        "colab_type": "code",
        "outputId": "ef9cea18-0028-46ef-870b-37f3c49f15b4",
        "colab": {
          "base_uri": "https://localhost:8080/",
          "height": 105
        }
      },
      "source": [
        "#\n",
        "print(\"enumerate()를 이용한 출력\")\n",
        "for position, subject in enumerate(subjects):\n",
        "    print(position,subject)"
      ],
      "execution_count": 0,
      "outputs": [
        {
          "output_type": "stream",
          "text": [
            "enumerate()를 이용한 출력\n",
            "0 python\n",
            "1 english\n",
            "2 math\n",
            "3 science\n"
          ],
          "name": "stdout"
        }
      ]
    },
    {
      "cell_type": "code",
      "metadata": {
        "id": "69brhk_xho1g",
        "colab_type": "code",
        "outputId": "4a8e9014-655d-45f1-fb92-5e9ef425ffec",
        "colab": {
          "base_uri": "https://localhost:8080/",
          "height": 87
        }
      },
      "source": [
        "#\n",
        "for position, subject in enumerate(subjects):\n",
        "    print(subjects[position])"
      ],
      "execution_count": 0,
      "outputs": [
        {
          "output_type": "stream",
          "text": [
            "python\n",
            "english\n",
            "math\n",
            "science\n"
          ],
          "name": "stdout"
        }
      ]
    },
    {
      "cell_type": "code",
      "metadata": {
        "id": "_50kEpPnh6aJ",
        "colab_type": "code",
        "outputId": "72380a44-c38a-4b45-82ea-6fd863f2cf65",
        "colab": {
          "base_uri": "https://localhost:8080/",
          "height": 105
        }
      },
      "source": [
        "# 도전 [DIY]\n",
        "\n",
        "print(\"enumerate()를 이용하여 점수를 출력해보시오.\")\n",
        "#\n",
        "#\n",
        "for position, score in enumerate(scores):\n",
        "    print(scores[position])"
      ],
      "execution_count": 0,
      "outputs": [
        {
          "output_type": "stream",
          "text": [
            "enumerate()를 이용하여 점수를 출력해보시오.\n",
            "88\n",
            "77\n",
            "66\n",
            "95\n"
          ],
          "name": "stdout"
        }
      ]
    },
    {
      "cell_type": "code",
      "metadata": {
        "id": "OMH-Dx3TiS_z",
        "colab_type": "code",
        "outputId": "bd52717e-c2f9-43c3-9913-cf5b9197dc38",
        "colab": {
          "base_uri": "https://localhost:8080/",
          "height": 105
        }
      },
      "source": [
        "#\n",
        "############################\n",
        "print(\"for 문과 itrator의 응용: 복합 문자열 리스트\")\n",
        "############################\n",
        "subjects = ['python', 'english', 'math', 'science']\n",
        "scores = [88, 77, 66, 95]\n",
        "# Method-1\n",
        "for position in range(len(subjects)):\n",
        "    subject = subjects[position]\n",
        "    score = scores[position]\n",
        "    print(subject, score)"
      ],
      "execution_count": 0,
      "outputs": [
        {
          "output_type": "stream",
          "text": [
            "for 문과 itrator의 응용: 복합 문자열 리스트\n",
            "python 88\n",
            "english 77\n",
            "math 66\n",
            "science 95\n"
          ],
          "name": "stdout"
        }
      ]
    },
    {
      "cell_type": "code",
      "metadata": {
        "id": "4VdxAukRikRN",
        "colab_type": "code",
        "outputId": "a10d4646-2364-4952-ca6c-08c3829caa6d",
        "colab": {
          "base_uri": "https://localhost:8080/",
          "height": 87
        }
      },
      "source": [
        "# Method-2\n",
        "for position, subject in enumerate(subjects):\n",
        "    score = scores[position]\n",
        "    print(subject, score)"
      ],
      "execution_count": 0,
      "outputs": [
        {
          "output_type": "stream",
          "text": [
            "python 88\n",
            "english 77\n",
            "math 66\n",
            "science 95\n"
          ],
          "name": "stdout"
        }
      ]
    },
    {
      "cell_type": "markdown",
      "metadata": {
        "id": "0N3ccYsQjHIW",
        "colab_type": "text"
      },
      "source": [
        "### zip()"
      ]
    },
    {
      "cell_type": "markdown",
      "metadata": {
        "id": "IzzPIHJejG9D",
        "colab_type": "text"
      },
      "source": [
        ""
      ]
    },
    {
      "cell_type": "code",
      "metadata": {
        "id": "Ym_FbmYsjK1B",
        "colab_type": "code",
        "outputId": "23a1a698-0fba-41b3-f006-2f45137b00b7",
        "colab": {
          "base_uri": "https://localhost:8080/",
          "height": 34
        }
      },
      "source": [
        "zip(subjects,scores)\n",
        "list(zip(subjects,scores))"
      ],
      "execution_count": 0,
      "outputs": [
        {
          "output_type": "execute_result",
          "data": {
            "text/plain": [
              "[('python', 88), ('english', 77), ('math', 66), ('science', 95)]"
            ]
          },
          "metadata": {
            "tags": []
          },
          "execution_count": 44
        }
      ]
    },
    {
      "cell_type": "code",
      "metadata": {
        "id": "7TJM5Gpfi8V3",
        "colab_type": "code",
        "outputId": "b2800292-ff57-4bba-8f37-6f08932625d6",
        "colab": {
          "base_uri": "https://localhost:8080/",
          "height": 87
        }
      },
      "source": [
        "# Method-3\n",
        "for subject, score in zip(subjects, scores):\n",
        "    print(subject, score)"
      ],
      "execution_count": 0,
      "outputs": [
        {
          "output_type": "stream",
          "text": [
            "python 88\n",
            "english 77\n",
            "math 66\n",
            "science 95\n"
          ],
          "name": "stdout"
        }
      ]
    },
    {
      "cell_type": "code",
      "metadata": {
        "id": "CSL0jTcnjylc",
        "colab_type": "code",
        "outputId": "00db924f-9af1-40c3-9442-ed18392fd2ca",
        "colab": {
          "base_uri": "https://localhost:8080/",
          "height": 105
        }
      },
      "source": [
        "# 응용 코드 : 평균 성적을 구하시오.\n",
        "subjects = ['python', 'english', 'math', 'science']\n",
        "scores = [88, 77, 66, 95]\n",
        "\n",
        "average = 0\n",
        "total = 0\n",
        "for subject, score in zip(subjects, scores):\n",
        "    total += score\n",
        "    print(subject, score)\n",
        "\n",
        "print(\"평균 점수 = {0}\".format(total/len(subjects)))\n",
        "\n",
        "# So Cool!\n"
      ],
      "execution_count": 0,
      "outputs": [
        {
          "output_type": "stream",
          "text": [
            "python 88\n",
            "english 77\n",
            "math 66\n",
            "science 95\n",
            "평균 점수 = 81.5\n"
          ],
          "name": "stdout"
        }
      ]
    }
  ]
}